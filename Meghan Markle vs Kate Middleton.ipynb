{
 "cells": [
  {
   "cell_type": "code",
   "execution_count": 99,
   "id": "f0a6eeab-7522-4494-8bb5-4a57bb77a0b3",
   "metadata": {},
   "outputs": [
    {
     "name": "stderr",
     "output_type": "stream",
     "text": [
      "[nltk_data] Downloading package stopwords to\n",
      "[nltk_data]     /Users/cutestuff/nltk_data...\n",
      "[nltk_data]   Package stopwords is already up-to-date!\n",
      "[nltk_data] Downloading package punkt to /Users/cutestuff/nltk_data...\n",
      "[nltk_data]   Package punkt is already up-to-date!\n",
      "[nltk_data] Downloading package wordnet to\n",
      "[nltk_data]     /Users/cutestuff/nltk_data...\n",
      "[nltk_data]   Package wordnet is already up-to-date!\n"
     ]
    },
    {
     "data": {
      "text/plain": [
       "True"
      ]
     },
     "execution_count": 99,
     "metadata": {},
     "output_type": "execute_result"
    }
   ],
   "source": [
    "import pandas as pd\n",
    "import numpy as np\n",
    "import matplotlib.pyplot as plt\n",
    "import seaborn as sns\n",
    "\n",
    "import os\n",
    "import itertools\n",
    "from collections import Counter\n",
    "import re\n",
    "import string\n",
    "\n",
    "\n",
    "import nltk \n",
    "from nltk.corpus import stopwords \n",
    "from nltk.tokenize import word_tokenize\n",
    "from nltk.stem import WordNetLemmatizer\n",
    "from nltk.stem.porter import PorterStemmer\n",
    "\n",
    "from sklearn.feature_extraction.text import CountVectorizer\n",
    "from sklearn.linear_model import LogisticRegression\n",
    "from sklearn.model_selection import train_test_split\n",
    "from sklearn import metrics\n",
    "\n",
    "from time import time\n",
    "\n",
    "nltk.download('stopwords')\n",
    "nltk.download('punkt')\n",
    "nltk.download('wordnet')"
   ]
  },
  {
   "cell_type": "code",
   "execution_count": 2,
   "id": "bb7c4b0e-9bb3-4334-8b7d-f0b4983d6383",
   "metadata": {},
   "outputs": [],
   "source": [
    "meg_dailymail = pd.read_csv('meg_dailymail2.csv', index_col=0)\n",
    "meg_express = pd.read_csv('meg_express2.csv', index_col=0)\n",
    "meg_thesun = pd.read_csv('meg_thesun2.csv', index_col=0)"
   ]
  },
  {
   "cell_type": "code",
   "execution_count": 3,
   "id": "d167302b-9924-4112-842c-617c0a5c2091",
   "metadata": {},
   "outputs": [],
   "source": [
    "meg_articles = pd.concat([meg_dailymail, meg_express, meg_thesun])"
   ]
  },
  {
   "cell_type": "code",
   "execution_count": 4,
   "id": "be832f64-34a1-4b70-9da3-beb6653a5d0a",
   "metadata": {},
   "outputs": [
    {
     "data": {
      "text/html": [
       "<div>\n",
       "<style scoped>\n",
       "    .dataframe tbody tr th:only-of-type {\n",
       "        vertical-align: middle;\n",
       "    }\n",
       "\n",
       "    .dataframe tbody tr th {\n",
       "        vertical-align: top;\n",
       "    }\n",
       "\n",
       "    .dataframe thead th {\n",
       "        text-align: right;\n",
       "    }\n",
       "</style>\n",
       "<table border=\"1\" class=\"dataframe\">\n",
       "  <thead>\n",
       "    <tr style=\"text-align: right;\">\n",
       "      <th></th>\n",
       "      <th>news_source</th>\n",
       "      <th>date</th>\n",
       "      <th>headline</th>\n",
       "      <th>url</th>\n",
       "    </tr>\n",
       "  </thead>\n",
       "  <tbody>\n",
       "    <tr>\n",
       "      <th>0</th>\n",
       "      <td>DailyMail</td>\n",
       "      <td>2021</td>\n",
       "      <td>Harry and Meghan confirm they DID buy 'Lilibet...</td>\n",
       "      <td>https://www.dailymail.co.uk/news/article-97114...</td>\n",
       "    </tr>\n",
       "    <tr>\n",
       "      <th>1</th>\n",
       "      <td>DailyMail</td>\n",
       "      <td>2021</td>\n",
       "      <td>Meghan is ready for 'brutal showdown' with Buc...</td>\n",
       "      <td>https://www.dailymail.co.uk/news/article-97115...</td>\n",
       "    </tr>\n",
       "    <tr>\n",
       "      <th>2</th>\n",
       "      <td>DailyMail</td>\n",
       "      <td>2021</td>\n",
       "      <td>Kate and Prince William did NOT talk to Prince...</td>\n",
       "      <td>https://www.dailymail.co.uk/news/article-97104...</td>\n",
       "    </tr>\n",
       "    <tr>\n",
       "      <th>3</th>\n",
       "      <td>DailyMail</td>\n",
       "      <td>2021</td>\n",
       "      <td>Did Meghan Markle cut a royal visit short over...</td>\n",
       "      <td>https://www.dailymail.co.uk/news/article-97102...</td>\n",
       "    </tr>\n",
       "    <tr>\n",
       "      <th>4</th>\n",
       "      <td>DailyMail</td>\n",
       "      <td>2021</td>\n",
       "      <td>Courtney Stodden 'wants to appear on Chrissy T...</td>\n",
       "      <td>https://www.dailymail.co.uk/tvshowbiz/article-...</td>\n",
       "    </tr>\n",
       "    <tr>\n",
       "      <th>...</th>\n",
       "      <td>...</td>\n",
       "      <td>...</td>\n",
       "      <td>...</td>\n",
       "      <td>...</td>\n",
       "    </tr>\n",
       "    <tr>\n",
       "      <th>4092</th>\n",
       "      <td>TheSun</td>\n",
       "      <td>2018</td>\n",
       "      <td>Meghan Markle's Suits co-stars reveal pics fro...</td>\n",
       "      <td>https://www.thesun.co.uk/tvandshowbiz/6333417/...</td>\n",
       "    </tr>\n",
       "    <tr>\n",
       "      <th>4093</th>\n",
       "      <td>TheSun</td>\n",
       "      <td>2018</td>\n",
       "      <td>Meghan dazzles in Stella McCartney dress &amp; Dia...</td>\n",
       "      <td>https://www.thesun.co.uk/fabulous/6330751/megh...</td>\n",
       "    </tr>\n",
       "    <tr>\n",
       "      <th>4094</th>\n",
       "      <td>TheSun</td>\n",
       "      <td>2018</td>\n",
       "      <td>Moment Meghan Markle spots her old teacher in ...</td>\n",
       "      <td>https://www.thesun.co.uk/news/6332952/meghan-m...</td>\n",
       "    </tr>\n",
       "    <tr>\n",
       "      <th>4095</th>\n",
       "      <td>TheSun</td>\n",
       "      <td>2018</td>\n",
       "      <td>Meghan's family celebrate Royal Wedding in BUR...</td>\n",
       "      <td>https://www.thesun.co.uk/news/6333254/meghan-m...</td>\n",
       "    </tr>\n",
       "    <tr>\n",
       "      <th>4096</th>\n",
       "      <td>TheSun</td>\n",
       "      <td>2018</td>\n",
       "      <td>Harry and Meghan's wedding tweeted about 3.4MI...</td>\n",
       "      <td>https://www.thesun.co.uk/news/6333088/harry-an...</td>\n",
       "    </tr>\n",
       "  </tbody>\n",
       "</table>\n",
       "<p>20402 rows × 4 columns</p>\n",
       "</div>"
      ],
      "text/plain": [
       "     news_source  date                                           headline  \\\n",
       "0      DailyMail  2021  Harry and Meghan confirm they DID buy 'Lilibet...   \n",
       "1      DailyMail  2021  Meghan is ready for 'brutal showdown' with Buc...   \n",
       "2      DailyMail  2021  Kate and Prince William did NOT talk to Prince...   \n",
       "3      DailyMail  2021  Did Meghan Markle cut a royal visit short over...   \n",
       "4      DailyMail  2021  Courtney Stodden 'wants to appear on Chrissy T...   \n",
       "...          ...   ...                                                ...   \n",
       "4092      TheSun  2018  Meghan Markle's Suits co-stars reveal pics fro...   \n",
       "4093      TheSun  2018  Meghan dazzles in Stella McCartney dress & Dia...   \n",
       "4094      TheSun  2018  Moment Meghan Markle spots her old teacher in ...   \n",
       "4095      TheSun  2018  Meghan's family celebrate Royal Wedding in BUR...   \n",
       "4096      TheSun  2018  Harry and Meghan's wedding tweeted about 3.4MI...   \n",
       "\n",
       "                                                    url  \n",
       "0     https://www.dailymail.co.uk/news/article-97114...  \n",
       "1     https://www.dailymail.co.uk/news/article-97115...  \n",
       "2     https://www.dailymail.co.uk/news/article-97104...  \n",
       "3     https://www.dailymail.co.uk/news/article-97102...  \n",
       "4     https://www.dailymail.co.uk/tvshowbiz/article-...  \n",
       "...                                                 ...  \n",
       "4092  https://www.thesun.co.uk/tvandshowbiz/6333417/...  \n",
       "4093  https://www.thesun.co.uk/fabulous/6330751/megh...  \n",
       "4094  https://www.thesun.co.uk/news/6332952/meghan-m...  \n",
       "4095  https://www.thesun.co.uk/news/6333254/meghan-m...  \n",
       "4096  https://www.thesun.co.uk/news/6333088/harry-an...  \n",
       "\n",
       "[20402 rows x 4 columns]"
      ]
     },
     "execution_count": 4,
     "metadata": {},
     "output_type": "execute_result"
    }
   ],
   "source": [
    "meg_articles"
   ]
  },
  {
   "cell_type": "code",
   "execution_count": 5,
   "id": "8e96aece-e255-4565-9932-e7253b015229",
   "metadata": {},
   "outputs": [],
   "source": [
    "meg_articles.reset_index(inplace=True,drop= True)"
   ]
  },
  {
   "cell_type": "code",
   "execution_count": 6,
   "id": "d8b56b6f-6eab-4fe4-a753-454ce993756d",
   "metadata": {},
   "outputs": [
    {
     "data": {
      "text/html": [
       "<div>\n",
       "<style scoped>\n",
       "    .dataframe tbody tr th:only-of-type {\n",
       "        vertical-align: middle;\n",
       "    }\n",
       "\n",
       "    .dataframe tbody tr th {\n",
       "        vertical-align: top;\n",
       "    }\n",
       "\n",
       "    .dataframe thead th {\n",
       "        text-align: right;\n",
       "    }\n",
       "</style>\n",
       "<table border=\"1\" class=\"dataframe\">\n",
       "  <thead>\n",
       "    <tr style=\"text-align: right;\">\n",
       "      <th></th>\n",
       "      <th>news_source</th>\n",
       "      <th>date</th>\n",
       "      <th>headline</th>\n",
       "      <th>url</th>\n",
       "    </tr>\n",
       "  </thead>\n",
       "  <tbody>\n",
       "    <tr>\n",
       "      <th>0</th>\n",
       "      <td>DailyMail</td>\n",
       "      <td>2021</td>\n",
       "      <td>Harry and Meghan confirm they DID buy 'Lilibet...</td>\n",
       "      <td>https://www.dailymail.co.uk/news/article-97114...</td>\n",
       "    </tr>\n",
       "    <tr>\n",
       "      <th>1</th>\n",
       "      <td>DailyMail</td>\n",
       "      <td>2021</td>\n",
       "      <td>Meghan is ready for 'brutal showdown' with Buc...</td>\n",
       "      <td>https://www.dailymail.co.uk/news/article-97115...</td>\n",
       "    </tr>\n",
       "    <tr>\n",
       "      <th>2</th>\n",
       "      <td>DailyMail</td>\n",
       "      <td>2021</td>\n",
       "      <td>Kate and Prince William did NOT talk to Prince...</td>\n",
       "      <td>https://www.dailymail.co.uk/news/article-97104...</td>\n",
       "    </tr>\n",
       "    <tr>\n",
       "      <th>3</th>\n",
       "      <td>DailyMail</td>\n",
       "      <td>2021</td>\n",
       "      <td>Did Meghan Markle cut a royal visit short over...</td>\n",
       "      <td>https://www.dailymail.co.uk/news/article-97102...</td>\n",
       "    </tr>\n",
       "    <tr>\n",
       "      <th>4</th>\n",
       "      <td>DailyMail</td>\n",
       "      <td>2021</td>\n",
       "      <td>Courtney Stodden 'wants to appear on Chrissy T...</td>\n",
       "      <td>https://www.dailymail.co.uk/tvshowbiz/article-...</td>\n",
       "    </tr>\n",
       "    <tr>\n",
       "      <th>...</th>\n",
       "      <td>...</td>\n",
       "      <td>...</td>\n",
       "      <td>...</td>\n",
       "      <td>...</td>\n",
       "    </tr>\n",
       "    <tr>\n",
       "      <th>20397</th>\n",
       "      <td>TheSun</td>\n",
       "      <td>2018</td>\n",
       "      <td>Meghan Markle's Suits co-stars reveal pics fro...</td>\n",
       "      <td>https://www.thesun.co.uk/tvandshowbiz/6333417/...</td>\n",
       "    </tr>\n",
       "    <tr>\n",
       "      <th>20398</th>\n",
       "      <td>TheSun</td>\n",
       "      <td>2018</td>\n",
       "      <td>Meghan dazzles in Stella McCartney dress &amp; Dia...</td>\n",
       "      <td>https://www.thesun.co.uk/fabulous/6330751/megh...</td>\n",
       "    </tr>\n",
       "    <tr>\n",
       "      <th>20399</th>\n",
       "      <td>TheSun</td>\n",
       "      <td>2018</td>\n",
       "      <td>Moment Meghan Markle spots her old teacher in ...</td>\n",
       "      <td>https://www.thesun.co.uk/news/6332952/meghan-m...</td>\n",
       "    </tr>\n",
       "    <tr>\n",
       "      <th>20400</th>\n",
       "      <td>TheSun</td>\n",
       "      <td>2018</td>\n",
       "      <td>Meghan's family celebrate Royal Wedding in BUR...</td>\n",
       "      <td>https://www.thesun.co.uk/news/6333254/meghan-m...</td>\n",
       "    </tr>\n",
       "    <tr>\n",
       "      <th>20401</th>\n",
       "      <td>TheSun</td>\n",
       "      <td>2018</td>\n",
       "      <td>Harry and Meghan's wedding tweeted about 3.4MI...</td>\n",
       "      <td>https://www.thesun.co.uk/news/6333088/harry-an...</td>\n",
       "    </tr>\n",
       "  </tbody>\n",
       "</table>\n",
       "<p>20402 rows × 4 columns</p>\n",
       "</div>"
      ],
      "text/plain": [
       "      news_source  date                                           headline  \\\n",
       "0       DailyMail  2021  Harry and Meghan confirm they DID buy 'Lilibet...   \n",
       "1       DailyMail  2021  Meghan is ready for 'brutal showdown' with Buc...   \n",
       "2       DailyMail  2021  Kate and Prince William did NOT talk to Prince...   \n",
       "3       DailyMail  2021  Did Meghan Markle cut a royal visit short over...   \n",
       "4       DailyMail  2021  Courtney Stodden 'wants to appear on Chrissy T...   \n",
       "...           ...   ...                                                ...   \n",
       "20397      TheSun  2018  Meghan Markle's Suits co-stars reveal pics fro...   \n",
       "20398      TheSun  2018  Meghan dazzles in Stella McCartney dress & Dia...   \n",
       "20399      TheSun  2018  Moment Meghan Markle spots her old teacher in ...   \n",
       "20400      TheSun  2018  Meghan's family celebrate Royal Wedding in BUR...   \n",
       "20401      TheSun  2018  Harry and Meghan's wedding tweeted about 3.4MI...   \n",
       "\n",
       "                                                     url  \n",
       "0      https://www.dailymail.co.uk/news/article-97114...  \n",
       "1      https://www.dailymail.co.uk/news/article-97115...  \n",
       "2      https://www.dailymail.co.uk/news/article-97104...  \n",
       "3      https://www.dailymail.co.uk/news/article-97102...  \n",
       "4      https://www.dailymail.co.uk/tvshowbiz/article-...  \n",
       "...                                                  ...  \n",
       "20397  https://www.thesun.co.uk/tvandshowbiz/6333417/...  \n",
       "20398  https://www.thesun.co.uk/fabulous/6330751/megh...  \n",
       "20399  https://www.thesun.co.uk/news/6332952/meghan-m...  \n",
       "20400  https://www.thesun.co.uk/news/6333254/meghan-m...  \n",
       "20401  https://www.thesun.co.uk/news/6333088/harry-an...  \n",
       "\n",
       "[20402 rows x 4 columns]"
      ]
     },
     "execution_count": 6,
     "metadata": {},
     "output_type": "execute_result"
    }
   ],
   "source": [
    "meg_articles"
   ]
  },
  {
   "cell_type": "code",
   "execution_count": 7,
   "id": "5634b6b0-2bbe-4101-8cbf-cc68911c7d86",
   "metadata": {},
   "outputs": [],
   "source": [
    "kate_dailymail = pd.read_csv('kate_dailymail2.csv', index_col=0)\n",
    "kate_express = pd.read_csv('kate_express2.csv', index_col=0)\n",
    "kate_thesun = pd.read_csv('kate_thesun2.csv', index_col=0)"
   ]
  },
  {
   "cell_type": "code",
   "execution_count": 8,
   "id": "8a0e0538-131e-415e-8790-a90af5c5a9d0",
   "metadata": {},
   "outputs": [],
   "source": [
    "kate_articles = pd.concat([kate_dailymail, kate_express, kate_thesun])"
   ]
  },
  {
   "cell_type": "code",
   "execution_count": 9,
   "id": "33e9e5e1-6324-4177-8df6-e9138a6b310c",
   "metadata": {},
   "outputs": [],
   "source": [
    "kate_articles.reset_index(inplace=True,drop= True)"
   ]
  },
  {
   "cell_type": "code",
   "execution_count": 10,
   "id": "8bd939a6-6d85-4c2a-b877-43ec1d864b8e",
   "metadata": {},
   "outputs": [
    {
     "data": {
      "text/html": [
       "<div>\n",
       "<style scoped>\n",
       "    .dataframe tbody tr th:only-of-type {\n",
       "        vertical-align: middle;\n",
       "    }\n",
       "\n",
       "    .dataframe tbody tr th {\n",
       "        vertical-align: top;\n",
       "    }\n",
       "\n",
       "    .dataframe thead th {\n",
       "        text-align: right;\n",
       "    }\n",
       "</style>\n",
       "<table border=\"1\" class=\"dataframe\">\n",
       "  <thead>\n",
       "    <tr style=\"text-align: right;\">\n",
       "      <th></th>\n",
       "      <th>news_source</th>\n",
       "      <th>date</th>\n",
       "      <th>headline</th>\n",
       "      <th>url</th>\n",
       "    </tr>\n",
       "  </thead>\n",
       "  <tbody>\n",
       "    <tr>\n",
       "      <th>0</th>\n",
       "      <td>DailyMail</td>\n",
       "      <td>2021</td>\n",
       "      <td>Kate 'will help Princes William and Harry put ...</td>\n",
       "      <td>https://www.dailymail.co.uk/news/article-97144...</td>\n",
       "    </tr>\n",
       "    <tr>\n",
       "      <th>1</th>\n",
       "      <td>DailyMail</td>\n",
       "      <td>2021</td>\n",
       "      <td>Dressed down Duchess! Casual Kate Middleton do...</td>\n",
       "      <td>https://www.dailymail.co.uk/galleries/article-...</td>\n",
       "    </tr>\n",
       "    <tr>\n",
       "      <th>2</th>\n",
       "      <td>DailyMail</td>\n",
       "      <td>2021</td>\n",
       "      <td>Kate the beekeeper brings youngsters a pot of ...</td>\n",
       "      <td>https://www.dailymail.co.uk/wires/pa/article-9...</td>\n",
       "    </tr>\n",
       "    <tr>\n",
       "      <th>3</th>\n",
       "      <td>DailyMail</td>\n",
       "      <td>2021</td>\n",
       "      <td>Casual Kate! Duchess of Cambridge dresses down...</td>\n",
       "      <td>https://www.dailymail.co.uk/femail/article-971...</td>\n",
       "    </tr>\n",
       "    <tr>\n",
       "      <th>4</th>\n",
       "      <td>DailyMail</td>\n",
       "      <td>2021</td>\n",
       "      <td>Kate and Prince William did NOT talk to Prince...</td>\n",
       "      <td>https://www.dailymail.co.uk/news/article-97104...</td>\n",
       "    </tr>\n",
       "    <tr>\n",
       "      <th>...</th>\n",
       "      <td>...</td>\n",
       "      <td>...</td>\n",
       "      <td>...</td>\n",
       "      <td>...</td>\n",
       "    </tr>\n",
       "    <tr>\n",
       "      <th>12392</th>\n",
       "      <td>TheSun</td>\n",
       "      <td>2016</td>\n",
       "      <td>Kate Middleton dazzles in a cobalt gown at a b...</td>\n",
       "      <td>https://www.thesun.co.uk/news/1259940/kate-mid...</td>\n",
       "    </tr>\n",
       "    <tr>\n",
       "      <th>12393</th>\n",
       "      <td>TheSun</td>\n",
       "      <td>2016</td>\n",
       "      <td>Male stripper performs in front of pupils as y...</td>\n",
       "      <td>https://www.thesun.co.uk/news/1218955/male-str...</td>\n",
       "    </tr>\n",
       "    <tr>\n",
       "      <th>12394</th>\n",
       "      <td>TheSun</td>\n",
       "      <td>2016</td>\n",
       "      <td>Kate Middleton recycles outfit for annual Buck...</td>\n",
       "      <td>https://www.thesun.co.uk/tvandshowbiz/1202793/...</td>\n",
       "    </tr>\n",
       "    <tr>\n",
       "      <th>12395</th>\n",
       "      <td>TheSun</td>\n",
       "      <td>2016</td>\n",
       "      <td>Spot the difference: Royal princess seen walki...</td>\n",
       "      <td>https://www.thesun.co.uk/news/1198123/spot-the...</td>\n",
       "    </tr>\n",
       "    <tr>\n",
       "      <th>12396</th>\n",
       "      <td>TheSun</td>\n",
       "      <td>2016</td>\n",
       "      <td>The Indian seamstress earning £75 a month who ...</td>\n",
       "      <td>https://www.thesun.co.uk/news/1197218/the-indi...</td>\n",
       "    </tr>\n",
       "  </tbody>\n",
       "</table>\n",
       "<p>12397 rows × 4 columns</p>\n",
       "</div>"
      ],
      "text/plain": [
       "      news_source  date                                           headline  \\\n",
       "0       DailyMail  2021  Kate 'will help Princes William and Harry put ...   \n",
       "1       DailyMail  2021  Dressed down Duchess! Casual Kate Middleton do...   \n",
       "2       DailyMail  2021  Kate the beekeeper brings youngsters a pot of ...   \n",
       "3       DailyMail  2021  Casual Kate! Duchess of Cambridge dresses down...   \n",
       "4       DailyMail  2021  Kate and Prince William did NOT talk to Prince...   \n",
       "...           ...   ...                                                ...   \n",
       "12392      TheSun  2016  Kate Middleton dazzles in a cobalt gown at a b...   \n",
       "12393      TheSun  2016  Male stripper performs in front of pupils as y...   \n",
       "12394      TheSun  2016  Kate Middleton recycles outfit for annual Buck...   \n",
       "12395      TheSun  2016  Spot the difference: Royal princess seen walki...   \n",
       "12396      TheSun  2016  The Indian seamstress earning £75 a month who ...   \n",
       "\n",
       "                                                     url  \n",
       "0      https://www.dailymail.co.uk/news/article-97144...  \n",
       "1      https://www.dailymail.co.uk/galleries/article-...  \n",
       "2      https://www.dailymail.co.uk/wires/pa/article-9...  \n",
       "3      https://www.dailymail.co.uk/femail/article-971...  \n",
       "4      https://www.dailymail.co.uk/news/article-97104...  \n",
       "...                                                  ...  \n",
       "12392  https://www.thesun.co.uk/news/1259940/kate-mid...  \n",
       "12393  https://www.thesun.co.uk/news/1218955/male-str...  \n",
       "12394  https://www.thesun.co.uk/tvandshowbiz/1202793/...  \n",
       "12395  https://www.thesun.co.uk/news/1198123/spot-the...  \n",
       "12396  https://www.thesun.co.uk/news/1197218/the-indi...  \n",
       "\n",
       "[12397 rows x 4 columns]"
      ]
     },
     "execution_count": 10,
     "metadata": {},
     "output_type": "execute_result"
    }
   ],
   "source": [
    "kate_articles"
   ]
  },
  {
   "cell_type": "code",
   "execution_count": 11,
   "id": "a271c854-ee6b-45d9-b4d0-1afa522d5064",
   "metadata": {},
   "outputs": [
    {
     "name": "stdout",
     "output_type": "stream",
     "text": [
      "<class 'pandas.core.frame.DataFrame'>\n",
      "RangeIndex: 20402 entries, 0 to 20401\n",
      "Data columns (total 4 columns):\n",
      " #   Column       Non-Null Count  Dtype \n",
      "---  ------       --------------  ----- \n",
      " 0   news_source  20402 non-null  object\n",
      " 1   date         20402 non-null  int64 \n",
      " 2   headline     20402 non-null  object\n",
      " 3   url          20402 non-null  object\n",
      "dtypes: int64(1), object(3)\n",
      "memory usage: 637.7+ KB\n"
     ]
    }
   ],
   "source": [
    "meg_articles.info()"
   ]
  },
  {
   "cell_type": "code",
   "execution_count": 12,
   "id": "205b47d9-0b34-4744-968d-64260cd17418",
   "metadata": {},
   "outputs": [
    {
     "data": {
      "text/plain": [
       "0        2021\n",
       "1        2021\n",
       "2        2021\n",
       "3        2021\n",
       "4        2021\n",
       "         ... \n",
       "20397    2018\n",
       "20398    2018\n",
       "20399    2018\n",
       "20400    2018\n",
       "20401    2018\n",
       "Name: date, Length: 20402, dtype: int64"
      ]
     },
     "execution_count": 12,
     "metadata": {},
     "output_type": "execute_result"
    }
   ],
   "source": [
    "meg_articles['date'].astype(int)"
   ]
  },
  {
   "cell_type": "code",
   "execution_count": 13,
   "id": "2f8e8099-cddd-4c75-8ad8-5ed054772a9a",
   "metadata": {},
   "outputs": [
    {
     "name": "stdout",
     "output_type": "stream",
     "text": [
      "<class 'pandas.core.frame.DataFrame'>\n",
      "RangeIndex: 12397 entries, 0 to 12396\n",
      "Data columns (total 4 columns):\n",
      " #   Column       Non-Null Count  Dtype \n",
      "---  ------       --------------  ----- \n",
      " 0   news_source  12397 non-null  object\n",
      " 1   date         12397 non-null  int64 \n",
      " 2   headline     12397 non-null  object\n",
      " 3   url          12397 non-null  object\n",
      "dtypes: int64(1), object(3)\n",
      "memory usage: 387.5+ KB\n"
     ]
    }
   ],
   "source": [
    "kate_articles.info()"
   ]
  },
  {
   "cell_type": "code",
   "execution_count": 14,
   "id": "08335d52-7478-46ef-81af-bbaf967411e6",
   "metadata": {},
   "outputs": [
    {
     "data": {
      "text/plain": [
       "0        2021\n",
       "1        2021\n",
       "2        2021\n",
       "3        2021\n",
       "4        2021\n",
       "         ... \n",
       "12392    2016\n",
       "12393    2016\n",
       "12394    2016\n",
       "12395    2016\n",
       "12396    2016\n",
       "Name: date, Length: 12397, dtype: int64"
      ]
     },
     "execution_count": 14,
     "metadata": {},
     "output_type": "execute_result"
    }
   ],
   "source": [
    "kate_articles['date'].astype(int)"
   ]
  },
  {
   "cell_type": "markdown",
   "id": "f5bd2da4-14be-487b-8581-327b1ea99d5c",
   "metadata": {},
   "source": [
    "# LABELLING "
   ]
  },
  {
   "cell_type": "code",
   "execution_count": 15,
   "id": "5a717159-a7bc-4111-ad42-46c5d1f1705a",
   "metadata": {},
   "outputs": [],
   "source": [
    "meg_train, meg_test = train_test_split(meg_articles, stratify=meg_articles['news_source'], test_size=0.95, random_state=42)"
   ]
  },
  {
   "cell_type": "code",
   "execution_count": 16,
   "id": "04a02ac7-d68b-443b-b1cb-da9915b4bb31",
   "metadata": {},
   "outputs": [],
   "source": [
    "kate_train, kate_test = train_test_split(kate_articles, stratify=kate_articles['news_source'], test_size=0.95, random_state=42)"
   ]
  },
  {
   "cell_type": "code",
   "execution_count": 17,
   "id": "f52d342b-5a6d-4242-bcb2-eea26ec111ef",
   "metadata": {},
   "outputs": [
    {
     "data": {
      "text/html": [
       "<div>\n",
       "<style scoped>\n",
       "    .dataframe tbody tr th:only-of-type {\n",
       "        vertical-align: middle;\n",
       "    }\n",
       "\n",
       "    .dataframe tbody tr th {\n",
       "        vertical-align: top;\n",
       "    }\n",
       "\n",
       "    .dataframe thead th {\n",
       "        text-align: right;\n",
       "    }\n",
       "</style>\n",
       "<table border=\"1\" class=\"dataframe\">\n",
       "  <thead>\n",
       "    <tr style=\"text-align: right;\">\n",
       "      <th></th>\n",
       "      <th>news_source</th>\n",
       "      <th>date</th>\n",
       "      <th>headline</th>\n",
       "      <th>url</th>\n",
       "    </tr>\n",
       "  </thead>\n",
       "  <tbody>\n",
       "    <tr>\n",
       "      <th>19577</th>\n",
       "      <td>TheSun</td>\n",
       "      <td>2018</td>\n",
       "      <td>Secrets of Meghan's ‘20-strong childbirth team...</td>\n",
       "      <td>https://www.thesun.co.uk/fabulous/7607630/megh...</td>\n",
       "    </tr>\n",
       "    <tr>\n",
       "      <th>6023</th>\n",
       "      <td>DailyMail</td>\n",
       "      <td>2017</td>\n",
       "      <td>Meghan Markle's Aussie connection: How Prince ...</td>\n",
       "      <td>https://www.dailymail.co.uk/tvshowbiz/article-...</td>\n",
       "    </tr>\n",
       "    <tr>\n",
       "      <th>10725</th>\n",
       "      <td>Express</td>\n",
       "      <td>2019</td>\n",
       "      <td>Revealed: The vile trolls carrying out online ...</td>\n",
       "      <td>https://www.express.co.uk/news/royal/1067187/r...</td>\n",
       "    </tr>\n",
       "    <tr>\n",
       "      <th>8627</th>\n",
       "      <td>Express</td>\n",
       "      <td>2021</td>\n",
       "      <td>Prince Harry to leave Meghan two weeks after d...</td>\n",
       "      <td>https://www.express.co.uk/news/royal/1446587/P...</td>\n",
       "    </tr>\n",
       "    <tr>\n",
       "      <th>4722</th>\n",
       "      <td>DailyMail</td>\n",
       "      <td>2018</td>\n",
       "      <td>Prince Harry and Meghan 'in floods of tears' d...</td>\n",
       "      <td>https://www.dailymail.co.uk/news/article-57469...</td>\n",
       "    </tr>\n",
       "    <tr>\n",
       "      <th>...</th>\n",
       "      <td>...</td>\n",
       "      <td>...</td>\n",
       "      <td>...</td>\n",
       "      <td>...</td>\n",
       "    </tr>\n",
       "    <tr>\n",
       "      <th>8972</th>\n",
       "      <td>Express</td>\n",
       "      <td>2021</td>\n",
       "      <td>Royal Family race row: Actor Daniel Kaluuya la...</td>\n",
       "      <td>https://www.express.co.uk/celebrity-news/14188...</td>\n",
       "    </tr>\n",
       "    <tr>\n",
       "      <th>11648</th>\n",
       "      <td>Express</td>\n",
       "      <td>2019</td>\n",
       "      <td>Meghan Markle BOMBSHELL: How first meeting wit...</td>\n",
       "      <td>https://www.express.co.uk/news/royal/1099032/m...</td>\n",
       "    </tr>\n",
       "    <tr>\n",
       "      <th>3411</th>\n",
       "      <td>DailyMail</td>\n",
       "      <td>2019</td>\n",
       "      <td>'She's probably going to be held back': Lisa W...</td>\n",
       "      <td>https://www.dailymail.co.uk/tvshowbiz/article-...</td>\n",
       "    </tr>\n",
       "    <tr>\n",
       "      <th>14511</th>\n",
       "      <td>Express</td>\n",
       "      <td>2018</td>\n",
       "      <td>WWE news: Carmella takes swipe at Meghan Markl...</td>\n",
       "      <td>https://www.express.co.uk/sport/othersport/957...</td>\n",
       "    </tr>\n",
       "    <tr>\n",
       "      <th>6846</th>\n",
       "      <td>Express</td>\n",
       "      <td>2021</td>\n",
       "      <td>Meghan Markle and Harry's Oprah interview 'sho...</td>\n",
       "      <td>https://www.express.co.uk/news/royal/1404283/m...</td>\n",
       "    </tr>\n",
       "  </tbody>\n",
       "</table>\n",
       "<p>1020 rows × 4 columns</p>\n",
       "</div>"
      ],
      "text/plain": [
       "      news_source  date                                           headline  \\\n",
       "19577      TheSun  2018  Secrets of Meghan's ‘20-strong childbirth team...   \n",
       "6023    DailyMail  2017  Meghan Markle's Aussie connection: How Prince ...   \n",
       "10725     Express  2019  Revealed: The vile trolls carrying out online ...   \n",
       "8627      Express  2021  Prince Harry to leave Meghan two weeks after d...   \n",
       "4722    DailyMail  2018  Prince Harry and Meghan 'in floods of tears' d...   \n",
       "...           ...   ...                                                ...   \n",
       "8972      Express  2021  Royal Family race row: Actor Daniel Kaluuya la...   \n",
       "11648     Express  2019  Meghan Markle BOMBSHELL: How first meeting wit...   \n",
       "3411    DailyMail  2019  'She's probably going to be held back': Lisa W...   \n",
       "14511     Express  2018  WWE news: Carmella takes swipe at Meghan Markl...   \n",
       "6846      Express  2021  Meghan Markle and Harry's Oprah interview 'sho...   \n",
       "\n",
       "                                                     url  \n",
       "19577  https://www.thesun.co.uk/fabulous/7607630/megh...  \n",
       "6023   https://www.dailymail.co.uk/tvshowbiz/article-...  \n",
       "10725  https://www.express.co.uk/news/royal/1067187/r...  \n",
       "8627   https://www.express.co.uk/news/royal/1446587/P...  \n",
       "4722   https://www.dailymail.co.uk/news/article-57469...  \n",
       "...                                                  ...  \n",
       "8972   https://www.express.co.uk/celebrity-news/14188...  \n",
       "11648  https://www.express.co.uk/news/royal/1099032/m...  \n",
       "3411   https://www.dailymail.co.uk/tvshowbiz/article-...  \n",
       "14511  https://www.express.co.uk/sport/othersport/957...  \n",
       "6846   https://www.express.co.uk/news/royal/1404283/m...  \n",
       "\n",
       "[1020 rows x 4 columns]"
      ]
     },
     "execution_count": 17,
     "metadata": {},
     "output_type": "execute_result"
    }
   ],
   "source": [
    "meg_train"
   ]
  },
  {
   "cell_type": "code",
   "execution_count": 18,
   "id": "86d10bd5-958a-45b4-86b2-6e6ffead3cb9",
   "metadata": {},
   "outputs": [],
   "source": [
    "lab = pd.concat([meg_train, kate_train])"
   ]
  },
  {
   "cell_type": "code",
   "execution_count": 19,
   "id": "c4bb3fc5-a3a1-41e4-a85a-b379fb9f4aea",
   "metadata": {},
   "outputs": [],
   "source": [
    "lab.reset_index(inplace=True,drop= True)"
   ]
  },
  {
   "cell_type": "code",
   "execution_count": 20,
   "id": "cb8c4890-582d-4b5f-af93-881f2dbeae67",
   "metadata": {},
   "outputs": [
    {
     "data": {
      "text/plain": [
       "1639"
      ]
     },
     "execution_count": 20,
     "metadata": {},
     "output_type": "execute_result"
    }
   ],
   "source": [
    "len(lab)"
   ]
  },
  {
   "cell_type": "code",
   "execution_count": 21,
   "id": "ff3ec20f-2555-454d-b804-a94b4ea4cdbb",
   "metadata": {},
   "outputs": [
    {
     "data": {
      "text/html": [
       "<div>\n",
       "<style scoped>\n",
       "    .dataframe tbody tr th:only-of-type {\n",
       "        vertical-align: middle;\n",
       "    }\n",
       "\n",
       "    .dataframe tbody tr th {\n",
       "        vertical-align: top;\n",
       "    }\n",
       "\n",
       "    .dataframe thead th {\n",
       "        text-align: right;\n",
       "    }\n",
       "</style>\n",
       "<table border=\"1\" class=\"dataframe\">\n",
       "  <thead>\n",
       "    <tr style=\"text-align: right;\">\n",
       "      <th></th>\n",
       "      <th>news_source</th>\n",
       "      <th>date</th>\n",
       "      <th>headline</th>\n",
       "      <th>url</th>\n",
       "    </tr>\n",
       "  </thead>\n",
       "  <tbody>\n",
       "    <tr>\n",
       "      <th>0</th>\n",
       "      <td>TheSun</td>\n",
       "      <td>2018</td>\n",
       "      <td>Secrets of Meghan's ‘20-strong childbirth team...</td>\n",
       "      <td>https://www.thesun.co.uk/fabulous/7607630/megh...</td>\n",
       "    </tr>\n",
       "    <tr>\n",
       "      <th>1</th>\n",
       "      <td>DailyMail</td>\n",
       "      <td>2017</td>\n",
       "      <td>Meghan Markle's Aussie connection: How Prince ...</td>\n",
       "      <td>https://www.dailymail.co.uk/tvshowbiz/article-...</td>\n",
       "    </tr>\n",
       "    <tr>\n",
       "      <th>2</th>\n",
       "      <td>Express</td>\n",
       "      <td>2019</td>\n",
       "      <td>Revealed: The vile trolls carrying out online ...</td>\n",
       "      <td>https://www.express.co.uk/news/royal/1067187/r...</td>\n",
       "    </tr>\n",
       "    <tr>\n",
       "      <th>3</th>\n",
       "      <td>Express</td>\n",
       "      <td>2021</td>\n",
       "      <td>Prince Harry to leave Meghan two weeks after d...</td>\n",
       "      <td>https://www.express.co.uk/news/royal/1446587/P...</td>\n",
       "    </tr>\n",
       "    <tr>\n",
       "      <th>4</th>\n",
       "      <td>DailyMail</td>\n",
       "      <td>2018</td>\n",
       "      <td>Prince Harry and Meghan 'in floods of tears' d...</td>\n",
       "      <td>https://www.dailymail.co.uk/news/article-57469...</td>\n",
       "    </tr>\n",
       "    <tr>\n",
       "      <th>...</th>\n",
       "      <td>...</td>\n",
       "      <td>...</td>\n",
       "      <td>...</td>\n",
       "      <td>...</td>\n",
       "    </tr>\n",
       "    <tr>\n",
       "      <th>1634</th>\n",
       "      <td>Express</td>\n",
       "      <td>2011</td>\n",
       "      <td>Prince William and Kate Middleton off to Canada</td>\n",
       "      <td>https://www.express.co.uk/news/uk/229531/Princ...</td>\n",
       "    </tr>\n",
       "    <tr>\n",
       "      <th>1635</th>\n",
       "      <td>TheSun</td>\n",
       "      <td>2019</td>\n",
       "      <td>Safe Kate buys same outfits to keep ‘elegant s...</td>\n",
       "      <td>https://www.thesun.co.uk/fabulous/8540828/safe...</td>\n",
       "    </tr>\n",
       "    <tr>\n",
       "      <th>1636</th>\n",
       "      <td>Express</td>\n",
       "      <td>2017</td>\n",
       "      <td>Kate Middleton vs Meghan Markle: Who would YOU...</td>\n",
       "      <td>https://www.express.co.uk/life-style/life/8574...</td>\n",
       "    </tr>\n",
       "    <tr>\n",
       "      <th>1637</th>\n",
       "      <td>Express</td>\n",
       "      <td>2018</td>\n",
       "      <td>Royally AWKWARD: The moments Kate, Meghan and ...</td>\n",
       "      <td>https://www.express.co.uk/news/royal/1021113/k...</td>\n",
       "    </tr>\n",
       "    <tr>\n",
       "      <th>1638</th>\n",
       "      <td>Express</td>\n",
       "      <td>2018</td>\n",
       "      <td>Kate Middleton and Meghan Markle’s firm jewell...</td>\n",
       "      <td>https://www.express.co.uk/life-style/style/101...</td>\n",
       "    </tr>\n",
       "  </tbody>\n",
       "</table>\n",
       "<p>1639 rows × 4 columns</p>\n",
       "</div>"
      ],
      "text/plain": [
       "     news_source  date                                           headline  \\\n",
       "0         TheSun  2018  Secrets of Meghan's ‘20-strong childbirth team...   \n",
       "1      DailyMail  2017  Meghan Markle's Aussie connection: How Prince ...   \n",
       "2        Express  2019  Revealed: The vile trolls carrying out online ...   \n",
       "3        Express  2021  Prince Harry to leave Meghan two weeks after d...   \n",
       "4      DailyMail  2018  Prince Harry and Meghan 'in floods of tears' d...   \n",
       "...          ...   ...                                                ...   \n",
       "1634     Express  2011    Prince William and Kate Middleton off to Canada   \n",
       "1635      TheSun  2019  Safe Kate buys same outfits to keep ‘elegant s...   \n",
       "1636     Express  2017  Kate Middleton vs Meghan Markle: Who would YOU...   \n",
       "1637     Express  2018  Royally AWKWARD: The moments Kate, Meghan and ...   \n",
       "1638     Express  2018  Kate Middleton and Meghan Markle’s firm jewell...   \n",
       "\n",
       "                                                    url  \n",
       "0     https://www.thesun.co.uk/fabulous/7607630/megh...  \n",
       "1     https://www.dailymail.co.uk/tvshowbiz/article-...  \n",
       "2     https://www.express.co.uk/news/royal/1067187/r...  \n",
       "3     https://www.express.co.uk/news/royal/1446587/P...  \n",
       "4     https://www.dailymail.co.uk/news/article-57469...  \n",
       "...                                                 ...  \n",
       "1634  https://www.express.co.uk/news/uk/229531/Princ...  \n",
       "1635  https://www.thesun.co.uk/fabulous/8540828/safe...  \n",
       "1636  https://www.express.co.uk/life-style/life/8574...  \n",
       "1637  https://www.express.co.uk/news/royal/1021113/k...  \n",
       "1638  https://www.express.co.uk/life-style/style/101...  \n",
       "\n",
       "[1639 rows x 4 columns]"
      ]
     },
     "execution_count": 21,
     "metadata": {},
     "output_type": "execute_result"
    }
   ],
   "source": [
    "lab"
   ]
  },
  {
   "cell_type": "code",
   "execution_count": 178,
   "id": "b982b91e-7dc1-473c-a401-441e59222323",
   "metadata": {},
   "outputs": [],
   "source": [
    "lab['label'] = 1"
   ]
  },
  {
   "cell_type": "code",
   "execution_count": 23,
   "id": "be4a2018-a497-4601-80ee-0f326a7461a1",
   "metadata": {},
   "outputs": [],
   "source": [
    "negative_headlines = [2, 9, 18, 20, 25, 28, 38, 39, 46, 47, 50, 51, 58, 72, 73, 78, 79, 80, 81, 90, 97, 105, 106, 108, 109, 112, 114, 118, 119, 124, 128, 137, 142, 145, 151, 155, 158, 159, 160, 165, 166,168, 169, 171, 174, 179, 183, 196, 197, 204, 205, 206, 213, 216, 224, 232, 233, 234, 247, 248, 254, 256, 261, 263, 266, 270, 271, 272, 278, 287, 294, 301, 306, 308, 309, 311, 312, 315, 316, 329, 330, 338, 355, 358, 378, 383, 387, 389, 391, 392, 394, 407, 422, 438, 479, 481, 486, 487, 488, 492, 493, 497, 513, 519, 520, 524, 525, 526, 533, 574, 577, 585, 588, 589, 591, 598, 603, 605, 608, 611, 612, 615, 616, 618, 622, 629, 632, 633, 634, 640, 646, 647, 653, 657, 658, 667, 674, 675, 682, 684, 685, 691, 698, 717, 723, 730, 733, 735, 736, 740, 741, 742, 751, 756, 757, 762, 763, 768, 770, 771, 780, 787, 788, 789, 804, 805, 809, 810, 811, 814, 828, 833, 845, 852, 856, 865, 868, 869, 870, 875, 880, 881, 886, 889, 891, 898, 899, 902, 903, 906, 907, 908, 911, 915, 923, 925, 928, 932, 935, 936, 937, 939, 940, 942, 947, 956, 957, 963, 969, 972, 973, 986, 990, 994, 996, 1000, 1003,  1011, 1019, 1021, 1030, 1042, 1051, 1052, 1054, 1057, 1074, 1083, 1087, 1128, 1204, 1205, 1231, 1233, 1249, 1266, 1282, 1294, 1297, 1327, 1339, 1353, 1358, 1370, 1391, 1392, 1402, 1411, 1412, 1417, 1422, 1441, 1450, 1477, 1486, 1487, 1498, 1499, 1522, 1523, 1529, 1530, 1544, 1553, 1557, 1564, 1568, 1571, 1576, 1578, 1581, 1591, 1592, 1596, 1598, 1607, 1616, 1617, 1619]"
   ]
  },
  {
   "cell_type": "code",
   "execution_count": 72,
   "id": "670d6c44-2977-48b9-8d78-0832181e746d",
   "metadata": {},
   "outputs": [
    {
     "data": {
      "text/plain": [
       "279"
      ]
     },
     "execution_count": 72,
     "metadata": {},
     "output_type": "execute_result"
    }
   ],
   "source": [
    "len(negative_headlines)"
   ]
  },
  {
   "cell_type": "code",
   "execution_count": 179,
   "id": "4f5e5f1f-eb58-426c-92a2-2a3c124ba672",
   "metadata": {},
   "outputs": [
    {
     "name": "stderr",
     "output_type": "stream",
     "text": [
      "<ipython-input-179-d508a0980ec3>:2: SettingWithCopyWarning: \n",
      "A value is trying to be set on a copy of a slice from a DataFrame\n",
      "\n",
      "See the caveats in the documentation: https://pandas.pydata.org/pandas-docs/stable/user_guide/indexing.html#returning-a-view-versus-a-copy\n",
      "  lab['label'][i] = 0\n"
     ]
    }
   ],
   "source": [
    "for i in negative_headlines:\n",
    "    lab['label'][i] = 0"
   ]
  },
  {
   "cell_type": "code",
   "execution_count": 25,
   "id": "122a7bb8-b214-439f-b18d-8e2db73bccf0",
   "metadata": {},
   "outputs": [
    {
     "data": {
      "text/html": [
       "<div>\n",
       "<style scoped>\n",
       "    .dataframe tbody tr th:only-of-type {\n",
       "        vertical-align: middle;\n",
       "    }\n",
       "\n",
       "    .dataframe tbody tr th {\n",
       "        vertical-align: top;\n",
       "    }\n",
       "\n",
       "    .dataframe thead th {\n",
       "        text-align: right;\n",
       "    }\n",
       "</style>\n",
       "<table border=\"1\" class=\"dataframe\">\n",
       "  <thead>\n",
       "    <tr style=\"text-align: right;\">\n",
       "      <th></th>\n",
       "      <th>news_source</th>\n",
       "      <th>date</th>\n",
       "      <th>headline</th>\n",
       "      <th>url</th>\n",
       "      <th>label</th>\n",
       "    </tr>\n",
       "  </thead>\n",
       "  <tbody>\n",
       "    <tr>\n",
       "      <th>0</th>\n",
       "      <td>TheSun</td>\n",
       "      <td>2018</td>\n",
       "      <td>Secrets of Meghan's ‘20-strong childbirth team...</td>\n",
       "      <td>https://www.thesun.co.uk/fabulous/7607630/megh...</td>\n",
       "      <td>1</td>\n",
       "    </tr>\n",
       "    <tr>\n",
       "      <th>1</th>\n",
       "      <td>DailyMail</td>\n",
       "      <td>2017</td>\n",
       "      <td>Meghan Markle's Aussie connection: How Prince ...</td>\n",
       "      <td>https://www.dailymail.co.uk/tvshowbiz/article-...</td>\n",
       "      <td>1</td>\n",
       "    </tr>\n",
       "    <tr>\n",
       "      <th>2</th>\n",
       "      <td>Express</td>\n",
       "      <td>2019</td>\n",
       "      <td>Revealed: The vile trolls carrying out online ...</td>\n",
       "      <td>https://www.express.co.uk/news/royal/1067187/r...</td>\n",
       "      <td>0</td>\n",
       "    </tr>\n",
       "    <tr>\n",
       "      <th>3</th>\n",
       "      <td>Express</td>\n",
       "      <td>2021</td>\n",
       "      <td>Prince Harry to leave Meghan two weeks after d...</td>\n",
       "      <td>https://www.express.co.uk/news/royal/1446587/P...</td>\n",
       "      <td>1</td>\n",
       "    </tr>\n",
       "    <tr>\n",
       "      <th>4</th>\n",
       "      <td>DailyMail</td>\n",
       "      <td>2018</td>\n",
       "      <td>Prince Harry and Meghan 'in floods of tears' d...</td>\n",
       "      <td>https://www.dailymail.co.uk/news/article-57469...</td>\n",
       "      <td>1</td>\n",
       "    </tr>\n",
       "    <tr>\n",
       "      <th>...</th>\n",
       "      <td>...</td>\n",
       "      <td>...</td>\n",
       "      <td>...</td>\n",
       "      <td>...</td>\n",
       "      <td>...</td>\n",
       "    </tr>\n",
       "    <tr>\n",
       "      <th>1634</th>\n",
       "      <td>Express</td>\n",
       "      <td>2011</td>\n",
       "      <td>Prince William and Kate Middleton off to Canada</td>\n",
       "      <td>https://www.express.co.uk/news/uk/229531/Princ...</td>\n",
       "      <td>1</td>\n",
       "    </tr>\n",
       "    <tr>\n",
       "      <th>1635</th>\n",
       "      <td>TheSun</td>\n",
       "      <td>2019</td>\n",
       "      <td>Safe Kate buys same outfits to keep ‘elegant s...</td>\n",
       "      <td>https://www.thesun.co.uk/fabulous/8540828/safe...</td>\n",
       "      <td>1</td>\n",
       "    </tr>\n",
       "    <tr>\n",
       "      <th>1636</th>\n",
       "      <td>Express</td>\n",
       "      <td>2017</td>\n",
       "      <td>Kate Middleton vs Meghan Markle: Who would YOU...</td>\n",
       "      <td>https://www.express.co.uk/life-style/life/8574...</td>\n",
       "      <td>1</td>\n",
       "    </tr>\n",
       "    <tr>\n",
       "      <th>1637</th>\n",
       "      <td>Express</td>\n",
       "      <td>2018</td>\n",
       "      <td>Royally AWKWARD: The moments Kate, Meghan and ...</td>\n",
       "      <td>https://www.express.co.uk/news/royal/1021113/k...</td>\n",
       "      <td>1</td>\n",
       "    </tr>\n",
       "    <tr>\n",
       "      <th>1638</th>\n",
       "      <td>Express</td>\n",
       "      <td>2018</td>\n",
       "      <td>Kate Middleton and Meghan Markle’s firm jewell...</td>\n",
       "      <td>https://www.express.co.uk/life-style/style/101...</td>\n",
       "      <td>1</td>\n",
       "    </tr>\n",
       "  </tbody>\n",
       "</table>\n",
       "<p>1639 rows × 5 columns</p>\n",
       "</div>"
      ],
      "text/plain": [
       "     news_source  date                                           headline  \\\n",
       "0         TheSun  2018  Secrets of Meghan's ‘20-strong childbirth team...   \n",
       "1      DailyMail  2017  Meghan Markle's Aussie connection: How Prince ...   \n",
       "2        Express  2019  Revealed: The vile trolls carrying out online ...   \n",
       "3        Express  2021  Prince Harry to leave Meghan two weeks after d...   \n",
       "4      DailyMail  2018  Prince Harry and Meghan 'in floods of tears' d...   \n",
       "...          ...   ...                                                ...   \n",
       "1634     Express  2011    Prince William and Kate Middleton off to Canada   \n",
       "1635      TheSun  2019  Safe Kate buys same outfits to keep ‘elegant s...   \n",
       "1636     Express  2017  Kate Middleton vs Meghan Markle: Who would YOU...   \n",
       "1637     Express  2018  Royally AWKWARD: The moments Kate, Meghan and ...   \n",
       "1638     Express  2018  Kate Middleton and Meghan Markle’s firm jewell...   \n",
       "\n",
       "                                                    url  label  \n",
       "0     https://www.thesun.co.uk/fabulous/7607630/megh...      1  \n",
       "1     https://www.dailymail.co.uk/tvshowbiz/article-...      1  \n",
       "2     https://www.express.co.uk/news/royal/1067187/r...      0  \n",
       "3     https://www.express.co.uk/news/royal/1446587/P...      1  \n",
       "4     https://www.dailymail.co.uk/news/article-57469...      1  \n",
       "...                                                 ...    ...  \n",
       "1634  https://www.express.co.uk/news/uk/229531/Princ...      1  \n",
       "1635  https://www.thesun.co.uk/fabulous/8540828/safe...      1  \n",
       "1636  https://www.express.co.uk/life-style/life/8574...      1  \n",
       "1637  https://www.express.co.uk/news/royal/1021113/k...      1  \n",
       "1638  https://www.express.co.uk/life-style/style/101...      1  \n",
       "\n",
       "[1639 rows x 5 columns]"
      ]
     },
     "execution_count": 25,
     "metadata": {},
     "output_type": "execute_result"
    }
   ],
   "source": [
    "lab"
   ]
  },
  {
   "cell_type": "markdown",
   "id": "9515d3c8-f5d0-45c1-a4ab-bde3c8eba3fe",
   "metadata": {},
   "source": [
    "# MODELS"
   ]
  },
  {
   "cell_type": "code",
   "execution_count": 26,
   "id": "009b5141-2538-48d7-a97f-516caf97029f",
   "metadata": {},
   "outputs": [],
   "source": [
    "train, test = train_test_split(lab, test_size=0.2, random_state=420) "
   ]
  },
  {
   "cell_type": "markdown",
   "id": "1e208bd8-842f-4f35-9656-5dc5bec5cb36",
   "metadata": {},
   "source": [
    "### CLEANING "
   ]
  },
  {
   "cell_type": "code",
   "execution_count": 27,
   "id": "c28a4938-d2e1-4cd9-a210-3da09311f4f5",
   "metadata": {},
   "outputs": [],
   "source": [
    "p_stemmer = PorterStemmer()\n",
    "stpwrd = nltk.corpus.stopwords.words('english')\n",
    "stpwrd.extend(string.punctuation)"
   ]
  },
  {
   "cell_type": "code",
   "execution_count": null,
   "id": "e2d4c1e1-9294-4edb-a120-d66f45fa6107",
   "metadata": {},
   "outputs": [],
   "source": [
    "stpwrd"
   ]
  },
  {
   "cell_type": "code",
   "execution_count": 29,
   "id": "c74568d2-431a-458a-9011-f80607f1308b",
   "metadata": {
    "tags": []
   },
   "outputs": [],
   "source": [
    "def regex_clean(txt, regex):\n",
    "    return \" \".join(re.sub(regex, \"\", txt).split())"
   ]
  },
  {
   "cell_type": "code",
   "execution_count": 30,
   "id": "04a30c36-3f98-483b-8fad-c11ffaf72b1b",
   "metadata": {},
   "outputs": [],
   "source": [
    "def prep_data(headline):\n",
    "    \n",
    "    ## Pre Token Cleaning - Stuff that applies to a string.\n",
    "    \n",
    "    headline = headline.lower() \n",
    "    headline = regex_clean(headline, r'\\s\\d+\\s')\n",
    "    headline = regex_clean(headline, r'\\d+')\n",
    "\n",
    "    ## Go-Go-Token-Rangers\n",
    "    headline = word_tokenize(headline)\n",
    "\n",
    "    ## Post Token Cleaning - Stuff that applies to a list \n",
    "    headline = [p_stemmer.stem(word) for word in headline]\n",
    "    headline = [p_stemmer.stem(word) for word in headline if word not in stpwrd]\n",
    "    \n",
    "    return headline"
   ]
  },
  {
   "cell_type": "code",
   "execution_count": 156,
   "id": "d8ff4048-2658-4cda-a249-643a27f24cbe",
   "metadata": {},
   "outputs": [],
   "source": [
    "train_headline = [\" \".join(prep_data(x)) for x in train['headline']]"
   ]
  },
  {
   "cell_type": "code",
   "execution_count": 157,
   "id": "e71ac89c-e24d-4882-8910-64ff40664a1e",
   "metadata": {},
   "outputs": [],
   "source": [
    "vectorizer = CountVectorizer(analyzer = \"word\",\n",
    "                             tokenizer = None,\n",
    "                             preprocessor = None,\n",
    "                             stop_words = None,\n",
    "                             max_features = 5000,\n",
    "                             ngram_range = (1, 3))"
   ]
  },
  {
   "cell_type": "code",
   "execution_count": 158,
   "id": "7894af1b-72e7-4694-8f78-2545fcc5e962",
   "metadata": {},
   "outputs": [],
   "source": [
    "train_features = vectorizer.fit_transform(train_headline)"
   ]
  },
  {
   "cell_type": "code",
   "execution_count": 159,
   "id": "b6b2c55f-365b-45a8-aa71-70fa97694a7c",
   "metadata": {},
   "outputs": [],
   "source": [
    "train_features = train_features.toarray()"
   ]
  },
  {
   "cell_type": "code",
   "execution_count": 160,
   "id": "82ba11b2-50c0-4490-be88-694bf6197df7",
   "metadata": {},
   "outputs": [],
   "source": [
    "y_train = train['label'].values"
   ]
  },
  {
   "cell_type": "markdown",
   "id": "044f10c7-ba73-45f0-92d6-29966f284c7c",
   "metadata": {},
   "source": [
    "## LOGISTIC REGRESSION"
   ]
  },
  {
   "cell_type": "code",
   "execution_count": 161,
   "id": "46fa4ba0-7e99-4e8d-a2c0-916c95efff4d",
   "metadata": {},
   "outputs": [],
   "source": [
    "lr = LogisticRegression()"
   ]
  },
  {
   "cell_type": "code",
   "execution_count": 162,
   "id": "3c2c0d56-7e5c-4529-a151-f7e828ce689c",
   "metadata": {},
   "outputs": [
    {
     "data": {
      "text/plain": [
       "LogisticRegression()"
      ]
     },
     "execution_count": 162,
     "metadata": {},
     "output_type": "execute_result"
    }
   ],
   "source": [
    "lr.fit(train_features, y_train)"
   ]
  },
  {
   "cell_type": "markdown",
   "id": "ebe67e4b-4c51-4ca2-9587-c4bdf628c69b",
   "metadata": {},
   "source": [
    "### MODEL PERFORMANCE"
   ]
  },
  {
   "cell_type": "code",
   "execution_count": 171,
   "id": "9769be68-521f-4ff0-816a-11a13a1effda",
   "metadata": {},
   "outputs": [],
   "source": [
    "from sklearn.metrics import (confusion_matrix, accuracy_score) \n",
    "def produce_confusion(positive_label, negative_label, cut_off, y_pred_name, y_real_name):\n",
    "    \n",
    "    #Build the CM\n",
    "    cm = confusion_matrix(y_real_name, np.where(y_pred_name > cut_off , 1, 0))  \n",
    "    \n",
    "    ax= plt.subplot()\n",
    "    sns.heatmap(cm, annot=True, ax=ax, fmt='g'); \n",
    "\n",
    "    # labels, title, ticks\n",
    "    ax.set_xlabel('Predicted labels');ax.set_ylabel('Real labels'); \n",
    "    ax.set_title('Confusion Matrix'); \n",
    "    ax.xaxis.set_ticklabels([negative_label, positive_label])\n",
    "    ax.yaxis.set_ticklabels([negative_label, positive_label]);"
   ]
  },
  {
   "cell_type": "code",
   "execution_count": 172,
   "id": "5df1afd3-ee17-4b87-b295-532bcdaa8944",
   "metadata": {},
   "outputs": [],
   "source": [
    "def apr(y_pred, y_real):\n",
    "    accuracy = metrics.accuracy_score(y_real, y_pred)\n",
    "    precision = metrics.precision_score(y_real, y_pred)\n",
    "    recall = metrics.recall_score(y_real, y_pred)\n",
    "    f1 = metrics.f1_score(y_real, y_pred)\n",
    "    \n",
    "    print(f\"Accuracy: {accuracy}\")\n",
    "    print(f\"Precision: {precision}\")\n",
    "    print(f\"Recall: {recall}\")\n",
    "    print(f\"F1: {f1}\")"
   ]
  },
  {
   "cell_type": "code",
   "execution_count": 180,
   "id": "7b427e94-c50b-471d-a4a6-f4f73ddd44ec",
   "metadata": {
    "tags": []
   },
   "outputs": [
    {
     "data": {
      "image/png": "[encoded data removed]",
      "text/plain": [
       "<Figure size 432x288 with 2 Axes>"
      ]
     },
     "metadata": {
      "needs_background": "light"
     },
     "output_type": "display_data"
    }
   ],
   "source": [
    "produce_confusion('Positive','Negative', 0.6, lr.predict(train_features), y_train)"
   ]
  },
  {
   "cell_type": "code",
   "execution_count": 174,
   "id": "fd4b32d6-c944-4e60-9f57-2836a0fce6f2",
   "metadata": {},
   "outputs": [
    {
     "name": "stdout",
     "output_type": "stream",
     "text": [
      "Accuracy: 0.9916094584286804\n",
      "Precision: 0.989963503649635\n",
      "Recall: 1.0\n",
      "F1: 0.994956441999083\n"
     ]
    }
   ],
   "source": [
    "apr(lr.predict(train_features), y_train)"
   ]
  },
  {
   "cell_type": "markdown",
   "id": "4f08d840-a2b5-441e-a5b4-a645b3451d98",
   "metadata": {},
   "source": [
    "#### TEST DATA"
   ]
  },
  {
   "cell_type": "code",
   "execution_count": 165,
   "id": "89193e55-9a4f-41b5-8c7e-48737e299c45",
   "metadata": {
    "tags": []
   },
   "outputs": [],
   "source": [
    "test_headline = [\" \".join(prep_data(x)) for x in test['headline']]"
   ]
  },
  {
   "cell_type": "code",
   "execution_count": 166,
   "id": "d4447c96-dd75-4b94-a05c-2eefd26ba632",
   "metadata": {},
   "outputs": [],
   "source": [
    "test_features = vectorizer.transform(test_headline)"
   ]
  },
  {
   "cell_type": "code",
   "execution_count": 167,
   "id": "313b239a-fe88-458b-b3a2-abf2d20a2949",
   "metadata": {},
   "outputs": [],
   "source": [
    "test_features = test_features.toarray()"
   ]
  },
  {
   "cell_type": "code",
   "execution_count": 168,
   "id": "581cd73f-e415-40d6-aef2-f068cedd3244",
   "metadata": {},
   "outputs": [],
   "source": [
    "y_test = test['label'].values"
   ]
  },
  {
   "cell_type": "code",
   "execution_count": 181,
   "id": "0e2841a4-6f66-4d10-875e-50fe9dc06819",
   "metadata": {
    "tags": []
   },
   "outputs": [
    {
     "data": {
      "image/png": "[encoded data removed]",
      "text/plain": [
       "<Figure size 432x288 with 2 Axes>"
      ]
     },
     "metadata": {
      "needs_background": "light"
     },
     "output_type": "display_data"
    }
   ],
   "source": [
    "produce_confusion('Positive', 'Negative', 0.6, lr.predict(test_features), y_test)"
   ]
  },
  {
   "cell_type": "code",
   "execution_count": 176,
   "id": "31521e12-db21-4f2b-8252-421e4ffb71eb",
   "metadata": {},
   "outputs": [
    {
     "name": "stdout",
     "output_type": "stream",
     "text": [
      "Accuracy: 0.8475609756097561\n",
      "Precision: 0.8594249201277955\n",
      "Recall: 0.9781818181818182\n",
      "F1: 0.9149659863945578\n"
     ]
    }
   ],
   "source": [
    "apr(lr.predict(test_features), y_test)"
   ]
  },
  {
   "cell_type": "markdown",
   "id": "46b399b8-f163-40d3-9644-b26f52e53446",
   "metadata": {},
   "source": [
    "## SUPPORT VECTOR MACHINES"
   ]
  },
  {
   "cell_type": "code",
   "execution_count": 73,
   "id": "ca126267-bab8-41f0-9cff-a216d1e89c86",
   "metadata": {},
   "outputs": [],
   "source": [
    "from sklearn import svm\n",
    "from sklearn.svm import SVC\n",
    "\n",
    "from sklearn import datasets\n",
    "\n",
    "from sklearn.model_selection import GridSearchCV\n"
   ]
  },
  {
   "cell_type": "code",
   "execution_count": 79,
   "id": "3cfb6e41-09dd-4793-ab24-5316987b2ab7",
   "metadata": {},
   "outputs": [
    {
     "data": {
      "text/plain": [
       "SVC(C=1, gamma=1)"
      ]
     },
     "execution_count": 79,
     "metadata": {},
     "output_type": "execute_result"
    }
   ],
   "source": [
    "svm = SVC(gamma=1\n",
    "              , kernel='rbf'\n",
    "              , C=1)\n",
    "\n",
    "svm.fit(train_features, y_train)"
   ]
  },
  {
   "cell_type": "code",
   "execution_count": 81,
   "id": "5813d2cd-2392-43f8-bfd2-4528d515526a",
   "metadata": {},
   "outputs": [
    {
     "name": "stdout",
     "output_type": "stream",
     "text": [
      "Accuracy: 1.0\n",
      "Precision: 1.0\n",
      "Recall: 1.0\n",
      "F1: 1.0\n"
     ]
    }
   ],
   "source": [
    "apr(svm.predict(train_features), y_train)"
   ]
  },
  {
   "cell_type": "code",
   "execution_count": 96,
   "id": "fd41453f-3c24-447f-a177-a68ede418f29",
   "metadata": {},
   "outputs": [],
   "source": [
    "tuned_parameters = [{'kernel': ['rbf'], 'gamma': [1e-3, 1e-4],'C': [1, 10, 100, 1000]},\n",
    "                    {'kernel': ['linear'], 'C': [1, 10, 100, 1000]},\n",
    "                    {'kernel': ['poly'], 'gamma': [1e-3, 1e-4], 'C': [1, 10, 100, 1000]},\n",
    "                    {'kernel': ['sigmoid'],'gamma': [1e-3, 1e-4], 'C': [1, 10, 100, 1000]}, \n",
    "                   ]"
   ]
  },
  {
   "cell_type": "code",
   "execution_count": 97,
   "id": "0a36e28a-0ce7-4801-a6c2-1d8153948633",
   "metadata": {},
   "outputs": [],
   "source": [
    "model = GridSearchCV(SVC(), tuned_parameters, scoring='accuracy')"
   ]
  },
  {
   "cell_type": "code",
   "execution_count": 100,
   "id": "8cf35521-0093-40be-adf8-c002d65c6e54",
   "metadata": {},
   "outputs": [
    {
     "name": "stdout",
     "output_type": "stream",
     "text": [
      " Time in seconds: 608.1477880477905\n"
     ]
    }
   ],
   "source": [
    "model.fit(train_features, y_train)"
   ]
  },
  {
   "cell_type": "code",
   "execution_count": 101,
   "id": "c02b6b41-ffb0-4622-8cb0-5a2de4337dbe",
   "metadata": {},
   "outputs": [
    {
     "data": {
      "text/plain": [
       "{'C': 100, 'gamma': 0.001, 'kernel': 'sigmoid'}"
      ]
     },
     "execution_count": 101,
     "metadata": {},
     "output_type": "execute_result"
    }
   ],
   "source": [
    "model.best_params_"
   ]
  },
  {
   "cell_type": "code",
   "execution_count": 147,
   "id": "05019b37-7bfd-4d69-be10-a0bc62acbad9",
   "metadata": {},
   "outputs": [
    {
     "name": "stdout",
     "output_type": "stream",
     "text": [
      "Accuracy: 0.8475609756097561\n",
      "Precision: 0.848297213622291\n",
      "Recall: 0.9963636363636363\n",
      "F1: 0.9163879598662208\n"
     ]
    }
   ],
   "source": [
    "apr(model.predict(test_features), y_test)"
   ]
  },
  {
   "cell_type": "markdown",
   "id": "07291e6e-b3a0-4715-af87-bf38f0631b3a",
   "metadata": {},
   "source": [
    "## DECISION TREES"
   ]
  },
  {
   "cell_type": "code",
   "execution_count": 112,
   "id": "a3b3cc31-5fb9-4b3c-b682-82085b98ff7a",
   "metadata": {},
   "outputs": [],
   "source": [
    "from sklearn.tree import DecisionTreeClassifier\n",
    "from sklearn import tree"
   ]
  },
  {
   "cell_type": "code",
   "execution_count": 113,
   "id": "804fd203-5fc7-40e6-8112-af3955d32e1f",
   "metadata": {},
   "outputs": [
    {
     "data": {
      "text/plain": [
       "DecisionTreeClassifier(max_depth=3, random_state=1)"
      ]
     },
     "execution_count": 113,
     "metadata": {},
     "output_type": "execute_result"
    }
   ],
   "source": [
    "treeclf = DecisionTreeClassifier(max_depth=3, random_state=1)\n",
    "treeclf.fit(train_features, y_train)"
   ]
  },
  {
   "cell_type": "code",
   "execution_count": 114,
   "id": "259bd244-5d17-4af9-8aed-e435d1edb24d",
   "metadata": {},
   "outputs": [
    {
     "data": {
      "text/plain": [
       "array([0, 1])"
      ]
     },
     "execution_count": 114,
     "metadata": {},
     "output_type": "execute_result"
    }
   ],
   "source": [
    "treeclf.classes_"
   ]
  },
  {
   "cell_type": "code",
   "execution_count": 148,
   "id": "ce3f3417-54d3-4ceb-b1d6-5e3d6a43ea29",
   "metadata": {},
   "outputs": [
    {
     "name": "stdout",
     "output_type": "stream",
     "text": [
      "Accuracy: 0.8405797101449275\n",
      "Precision: 0.8520900321543409\n",
      "Recall: 0.9769585253456221\n",
      "F1: 0.9102619149849721\n"
     ]
    }
   ],
   "source": [
    "apr(treeclf.predict(train_features), y_train)"
   ]
  },
  {
   "cell_type": "code",
   "execution_count": 116,
   "id": "c10e8d99-a1c6-4c32-84f0-febfccbaab3d",
   "metadata": {},
   "outputs": [],
   "source": [
    "grid = GridSearchCV(estimator = DecisionTreeClassifier(),\n",
    "                    param_grid = {'max_depth': [3, 5, 7, 10],\n",
    "                                  'min_samples_split': [5, 10, 15, 20],\n",
    "                                  'min_samples_leaf': [2, 3, 4, 5, 6, 7]},\n",
    "                    cv = 5,\n",
    "                    refit = True,\n",
    "                    verbose = 1,\n",
    "                    scoring = 'accuracy')"
   ]
  },
  {
   "cell_type": "code",
   "execution_count": 117,
   "id": "61b32ec3-8a38-4877-ab98-681b90b065e9",
   "metadata": {},
   "outputs": [
    {
     "name": "stdout",
     "output_type": "stream",
     "text": [
      "Fitting 5 folds for each of 96 candidates, totalling 480 fits\n",
      " Time in seconds: 221.37734293937683\n"
     ]
    }
   ],
   "source": [
    "grid.fit(train_features, y_train)"
   ]
  },
  {
   "cell_type": "code",
   "execution_count": 118,
   "id": "1e9a18af-87c3-4d32-ac00-11cd6971775e",
   "metadata": {},
   "outputs": [
    {
     "data": {
      "text/plain": [
       "{'max_depth': 3, 'min_samples_leaf': 6, 'min_samples_split': 5}"
      ]
     },
     "execution_count": 118,
     "metadata": {},
     "output_type": "execute_result"
    }
   ],
   "source": [
    "grid.best_params_"
   ]
  },
  {
   "cell_type": "code",
   "execution_count": 119,
   "id": "28ce6cad-5fb2-4cac-a0f5-831959cc55bf",
   "metadata": {},
   "outputs": [
    {
     "data": {
      "text/plain": [
       "0.8321916814210664"
      ]
     },
     "execution_count": 119,
     "metadata": {},
     "output_type": "execute_result"
    }
   ],
   "source": [
    "grid.best_score_"
   ]
  },
  {
   "cell_type": "code",
   "execution_count": 120,
   "id": "ca1377d5-048f-4631-a698-ddd57d079d95",
   "metadata": {},
   "outputs": [],
   "source": [
    "dt = DecisionTreeClassifier(max_depth = 3,\n",
    "                            min_samples_split = 5,\n",
    "                            min_samples_leaf = 6\n",
    "                           )"
   ]
  },
  {
   "cell_type": "code",
   "execution_count": 121,
   "id": "c3bbae7d-f6b8-4311-9420-334713d56b74",
   "metadata": {},
   "outputs": [
    {
     "data": {
      "text/plain": [
       "DecisionTreeClassifier(max_depth=3, min_samples_leaf=6, min_samples_split=5)"
      ]
     },
     "execution_count": 121,
     "metadata": {},
     "output_type": "execute_result"
    }
   ],
   "source": [
    "dt.fit(train_features, y_train)"
   ]
  },
  {
   "cell_type": "code",
   "execution_count": 149,
   "id": "59d1e186-8941-4ce4-b3bd-594dd3e3ab1d",
   "metadata": {},
   "outputs": [
    {
     "name": "stdout",
     "output_type": "stream",
     "text": [
      "Accuracy: 0.8382913806254767\n",
      "Precision: 0.8375870069605569\n",
      "Recall: 0.9981566820276497\n",
      "F1: 0.9108494533221194\n"
     ]
    }
   ],
   "source": [
    "apr(dt.predict(train_features), y_train)"
   ]
  },
  {
   "cell_type": "code",
   "execution_count": 150,
   "id": "beb7e770-0bc5-4ff5-94c4-cd7e5f6ea6a1",
   "metadata": {},
   "outputs": [
    {
     "name": "stdout",
     "output_type": "stream",
     "text": [
      "Accuracy: 0.8353658536585366\n",
      "Precision: 0.8463949843260188\n",
      "Recall: 0.9818181818181818\n",
      "F1: 0.9090909090909092\n"
     ]
    }
   ],
   "source": [
    "apr(dt.predict(test_features), y_test)"
   ]
  },
  {
   "cell_type": "markdown",
   "id": "7d9a94cd-02d1-4212-beb6-705ae3be1d6e",
   "metadata": {},
   "source": [
    "## CLUSTERING"
   ]
  },
  {
   "cell_type": "code",
   "execution_count": 104,
   "id": "5d5eb7da-7a99-4762-82b8-ae219bdaafde",
   "metadata": {},
   "outputs": [],
   "source": [
    "from sklearn import datasets\n",
    "import sklearn.metrics as sm\n",
    "from sklearn.cluster import KMeans\n",
    "from sklearn.neighbors import KNeighborsClassifier\n",
    "from sklearn.metrics import accuracy_score\n",
    "from sklearn.preprocessing import MinMaxScaler"
   ]
  },
  {
   "cell_type": "code",
   "execution_count": 105,
   "id": "fbb40f6f-e496-4f50-a83a-19066be9e678",
   "metadata": {},
   "outputs": [],
   "source": [
    "scaler = MinMaxScaler()\n",
    "scaler.fit(train_features)\n",
    "\n",
    "train_features = scaler.transform(train_features)\n",
    "test_features = scaler.transform(test_features)"
   ]
  },
  {
   "cell_type": "code",
   "execution_count": 106,
   "id": "ce5e5a9a-fb24-43a0-8476-2fba31b42d16",
   "metadata": {},
   "outputs": [],
   "source": [
    "errors = []\n",
    "\n",
    "for i in range(1, 40):\n",
    "    knn = KNeighborsClassifier(n_neighbors=i)\n",
    "    knn.fit(train_features, y_train)\n",
    "    pred_i = knn.predict(test_features)\n",
    "    errors.append(np.mean(pred_i != y_test))"
   ]
  },
  {
   "cell_type": "code",
   "execution_count": 107,
   "id": "25a66c9f-b955-44e0-b472-fa809fef567f",
   "metadata": {},
   "outputs": [
    {
     "data": {
      "image/png": "[encoded data removed]",
      "text/plain": [
       "<Figure size 864x432 with 1 Axes>"
      ]
     },
     "metadata": {
      "needs_background": "light"
     },
     "output_type": "display_data"
    }
   ],
   "source": [
    "plt.figure(figsize=(12, 6))\n",
    "plt.plot(range(1, 40)\n",
    "         , errors\n",
    "         , color='pink'\n",
    "         , linestyle='dashed'\n",
    "         , marker='o'\n",
    "         , markerfacecolor='pink'\n",
    "         , markersize=10)\n",
    "plt.title('Error Rate K Value')\n",
    "plt.xlabel('K Value')\n",
    "plt.ylabel('Mean Error')\n",
    "plt.show()"
   ]
  },
  {
   "cell_type": "code",
   "execution_count": 108,
   "id": "c86293fd-3325-44c1-8213-471b4ff50708",
   "metadata": {},
   "outputs": [
    {
     "data": {
      "text/plain": [
       "KNeighborsClassifier(n_neighbors=1)"
      ]
     },
     "execution_count": 108,
     "metadata": {},
     "output_type": "execute_result"
    }
   ],
   "source": [
    "classifier = KNeighborsClassifier(n_neighbors=1)\n",
    "classifier.fit(train_features, y_train)"
   ]
  },
  {
   "cell_type": "code",
   "execution_count": 109,
   "id": "0ef8bd4d-3589-4bf3-9280-19f4df97116b",
   "metadata": {},
   "outputs": [],
   "source": [
    "y_pred = classifier.predict(test_features)"
   ]
  },
  {
   "cell_type": "code",
   "execution_count": 151,
   "id": "cdf1b337-ab5f-4a6d-8066-e44b54666fc4",
   "metadata": {},
   "outputs": [
    {
     "name": "stdout",
     "output_type": "stream",
     "text": [
      "Accuracy: 0.8414634146341463\n",
      "Precision: 0.8495297805642633\n",
      "Recall: 0.9854545454545455\n",
      "F1: 0.9124579124579124\n"
     ]
    }
   ],
   "source": [
    "apr(classifier.predict(test_features), y_test)"
   ]
  },
  {
   "cell_type": "markdown",
   "id": "5ae901d4-34e1-4ed0-89d6-071be404a875",
   "metadata": {
    "tags": []
   },
   "source": [
    "## FEATURE IMPORTANCE"
   ]
  },
  {
   "cell_type": "code",
   "execution_count": 198,
   "id": "102cf60d-2dcc-4901-b93e-f0e6b418b245",
   "metadata": {},
   "outputs": [],
   "source": [
    "def get_most_important_features(vectorizer, model, n=5):\n",
    "    index_to_word = {v:k for k,v in vectorizer.vocabulary_.items()}\n",
    "    \n",
    "    # loop for each class\n",
    "    classes ={}\n",
    "    for class_index in range(model.coef_.shape[0]):\n",
    "        word_importances = [(el, index_to_word[i]) for i,el in enumerate(model.coef_[class_index])]\n",
    "        sorted_coeff = sorted(word_importances, key = lambda x : x[0], reverse=True)\n",
    "        tops = sorted(sorted_coeff[:n], key = lambda x : x[0])\n",
    "        bottom = sorted_coeff[-n:]\n",
    "        classes[class_index] = {\n",
    "            'tops':tops,\n",
    "            'bottom':bottom\n",
    "        }\n",
    "    return classes"
   ]
  },
  {
   "cell_type": "code",
   "execution_count": 199,
   "id": "01b7a31f-e599-4f59-8b3f-d2409cfdf9ba",
   "metadata": {},
   "outputs": [],
   "source": [
    "importance = get_most_important_features(vectorizer, lr, 10)"
   ]
  },
  {
   "cell_type": "code",
   "execution_count": 200,
   "id": "9c04f108-9b66-43ea-aa19-1bcb476cde85",
   "metadata": {},
   "outputs": [
    {
     "data": {
      "text/plain": [
       "{0: {'tops': [(0.6346806798296419, 'could'),\n",
       "   (0.635536432605361, 'children'),\n",
       "   (0.6784660702765036, 'diana'),\n",
       "   (0.6796591430407091, 'babi'),\n",
       "   (0.6853086833392864, 'princess'),\n",
       "   (0.7000326203559257, 'friend'),\n",
       "   (0.706535927311568, 'meghan kate'),\n",
       "   (0.7571596080291014, 'follow'),\n",
       "   (0.7686618423579115, 'visit'),\n",
       "   (0.7804521923232923, 'reveal')],\n",
       "  'bottom': [(-0.8873713642901523, 'princ william'),\n",
       "   (-0.9135985861194083, 'snub'),\n",
       "   (-0.9335560743280086, 'close'),\n",
       "   (-1.005623156473692, 'broke'),\n",
       "   (-1.0080347810660986, 'pair'),\n",
       "   (-1.0313879380656577, 'blast'),\n",
       "   (-1.1170488918371528, 'claim'),\n",
       "   (-1.3206059654137594, 'troll'),\n",
       "   (-1.3457563283588339, 'attack'),\n",
       "   (-1.8561885181577154, 'public')]}}"
      ]
     },
     "execution_count": 200,
     "metadata": {},
     "output_type": "execute_result"
    }
   ],
   "source": [
    "importance"
   ]
  },
  {
   "cell_type": "code",
   "execution_count": 209,
   "id": "24e86bc3-eed0-4c90-9973-5f85c516f16d",
   "metadata": {},
   "outputs": [],
   "source": [
    "def plot_important_words(top_scores, top_words, bottom_scores, bottom_words, name):\n",
    "    y_pos = np.arange(len(top_words))\n",
    "    top_pairs = [(a,b) for a,b in zip(top_words, top_scores)]\n",
    "    top_pairs = sorted(top_pairs, key=lambda x: x[1])\n",
    "    \n",
    "    bottom_pairs = [(a,b) for a,b in zip(bottom_words, bottom_scores)]\n",
    "    bottom_pairs = sorted(bottom_pairs, key=lambda x: x[1], reverse=True)\n",
    "    \n",
    "    top_words = [a[0] for a in top_pairs]\n",
    "    top_scores = [a[1] for a in top_pairs]\n",
    "    \n",
    "    bottom_words = [a[0] for a in bottom_pairs]\n",
    "    bottom_scores = [a[1] for a in bottom_pairs]\n",
    "    \n",
    "    fig = plt.figure(figsize=(10, 10))  \n",
    "\n",
    "    plt.subplot(121)\n",
    "    plt.barh(y_pos,bottom_scores, align='center', alpha=0.5, color='pink')\n",
    "    plt.title('Negative', fontsize=20)\n",
    "    plt.yticks(y_pos, bottom_words, fontsize=14)\n",
    "    plt.suptitle('Key words', fontsize=16)\n",
    "    plt.xlabel('Importance', fontsize=20)\n",
    "    \n",
    "    plt.subplot(122)\n",
    "    plt.barh(y_pos,top_scores, align='center', alpha=0.5, color='pink')\n",
    "    plt.title('Positive', fontsize=20)\n",
    "    plt.yticks(y_pos, top_words, fontsize=14)\n",
    "    plt.suptitle(name, fontsize=16)\n",
    "    plt.xlabel('Importance', fontsize=20)\n",
    "    \n",
    "    plt.subplots_adjust(wspace=0.8)\n",
    "    plt.show()"
   ]
  },
  {
   "cell_type": "code",
   "execution_count": 210,
   "id": "4a0dc401-8ebe-4333-aa8c-1fa50e6d534a",
   "metadata": {},
   "outputs": [
    {
     "data": {
      "image/png": "[encoded data removed]",
      "text/plain": [
       "<Figure size 720x720 with 2 Axes>"
      ]
     },
     "metadata": {
      "needs_background": "light"
     },
     "output_type": "display_data"
    }
   ],
   "source": [
    "top_scores = [a[0] for a in importance[0]['tops']]\n",
    "top_words = [a[1] for a in importance[0]['tops']]\n",
    "bottom_scores = [a[0] for a in importance[0]['bottom']]\n",
    "bottom_words = [a[1] for a in importance[0]['bottom']]\n",
    "\n",
    "plot_important_words(top_scores, top_words, bottom_scores, bottom_words, \"Most important words\")"
   ]
  },
  {
   "cell_type": "markdown",
   "id": "c7528825-1bfb-453c-91e6-5f8b13d2bb28",
   "metadata": {},
   "source": [
    "# PREDICTING THE WHOLE DATA"
   ]
  },
  {
   "cell_type": "markdown",
   "id": "8247c7b5-d6c4-4841-99b8-1207a29ff98a",
   "metadata": {},
   "source": [
    "## MEGHAN MARKLE "
   ]
  },
  {
   "cell_type": "code",
   "execution_count": 184,
   "id": "2e815481-dab3-441f-92e7-85c5d6fe1838",
   "metadata": {},
   "outputs": [],
   "source": [
    "meg_headline = [\" \".join(prep_data(x)) for x in meg_articles['headline']]"
   ]
  },
  {
   "cell_type": "code",
   "execution_count": 185,
   "id": "428e08ba-418b-4a11-be2d-6f7a4c0af426",
   "metadata": {},
   "outputs": [],
   "source": [
    "meg_features = vectorizer.transform(meg_headline)"
   ]
  },
  {
   "cell_type": "code",
   "execution_count": 186,
   "id": "9a5cd39d-9af7-4e3b-a1de-fc723c535944",
   "metadata": {},
   "outputs": [],
   "source": [
    "meg_features = meg_features.toarray()"
   ]
  },
  {
   "cell_type": "code",
   "execution_count": 187,
   "id": "6c1e8d99-3071-4256-9e58-35d0738dbda0",
   "metadata": {},
   "outputs": [],
   "source": [
    "meg_articles['prediction'] = lr.predict(meg_features)"
   ]
  },
  {
   "cell_type": "code",
   "execution_count": 188,
   "id": "dd2b9880-41c7-4d97-b49d-9b4466a7ff6d",
   "metadata": {
    "tags": []
   },
   "outputs": [
    {
     "data": {
      "text/plain": [
       "1    18821\n",
       "0     1581\n",
       "Name: prediction, dtype: int64"
      ]
     },
     "execution_count": 188,
     "metadata": {},
     "output_type": "execute_result"
    }
   ],
   "source": [
    "meg_articles['prediction'].value_counts()"
   ]
  },
  {
   "cell_type": "code",
   "execution_count": 195,
   "id": "52345e79-8c86-4738-ab87-29eb9c9e5f17",
   "metadata": {},
   "outputs": [
    {
     "data": {
      "text/html": [
       "<div>\n",
       "<style scoped>\n",
       "    .dataframe tbody tr th:only-of-type {\n",
       "        vertical-align: middle;\n",
       "    }\n",
       "\n",
       "    .dataframe tbody tr th {\n",
       "        vertical-align: top;\n",
       "    }\n",
       "\n",
       "    .dataframe thead th {\n",
       "        text-align: right;\n",
       "    }\n",
       "</style>\n",
       "<table border=\"1\" class=\"dataframe\">\n",
       "  <thead>\n",
       "    <tr style=\"text-align: right;\">\n",
       "      <th></th>\n",
       "      <th>news_source</th>\n",
       "      <th>date</th>\n",
       "      <th>headline</th>\n",
       "      <th>url</th>\n",
       "      <th>prediction</th>\n",
       "    </tr>\n",
       "  </thead>\n",
       "  <tbody>\n",
       "    <tr>\n",
       "      <th>1</th>\n",
       "      <td>DailyMail</td>\n",
       "      <td>2021</td>\n",
       "      <td>Meghan is ready for 'brutal showdown' with Buc...</td>\n",
       "      <td>https://www.dailymail.co.uk/news/article-97115...</td>\n",
       "      <td>0</td>\n",
       "    </tr>\n",
       "    <tr>\n",
       "      <th>5</th>\n",
       "      <td>DailyMail</td>\n",
       "      <td>2021</td>\n",
       "      <td>Meghan and Prince Harry's son Archie can wait ...</td>\n",
       "      <td>https://www.dailymail.co.uk/news/article-97070...</td>\n",
       "      <td>0</td>\n",
       "    </tr>\n",
       "    <tr>\n",
       "      <th>8</th>\n",
       "      <td>DailyMail</td>\n",
       "      <td>2021</td>\n",
       "      <td>'Hurt William threw Harry out': Royal author r...</td>\n",
       "      <td>https://www.dailymail.co.uk/news/article-97056...</td>\n",
       "      <td>0</td>\n",
       "    </tr>\n",
       "    <tr>\n",
       "      <th>11</th>\n",
       "      <td>DailyMail</td>\n",
       "      <td>2021</td>\n",
       "      <td>William 'threw Harry out after Meghan bullying...</td>\n",
       "      <td>https://www.dailymail.co.uk/news/article-97026...</td>\n",
       "      <td>0</td>\n",
       "    </tr>\n",
       "    <tr>\n",
       "      <th>21</th>\n",
       "      <td>DailyMail</td>\n",
       "      <td>2021</td>\n",
       "      <td>Prince Harry and Meghan Markle want to hire br...</td>\n",
       "      <td>https://www.dailymail.co.uk/femail/article-968...</td>\n",
       "      <td>0</td>\n",
       "    </tr>\n",
       "    <tr>\n",
       "      <th>...</th>\n",
       "      <td>...</td>\n",
       "      <td>...</td>\n",
       "      <td>...</td>\n",
       "      <td>...</td>\n",
       "      <td>...</td>\n",
       "    </tr>\n",
       "    <tr>\n",
       "      <th>20298</th>\n",
       "      <td>TheSun</td>\n",
       "      <td>2018</td>\n",
       "      <td>Meghan has 'become more comfortable' since mee...</td>\n",
       "      <td>https://www.thesun.co.uk/fabulous/6361966/megh...</td>\n",
       "      <td>0</td>\n",
       "    </tr>\n",
       "    <tr>\n",
       "      <th>20314</th>\n",
       "      <td>TheSun</td>\n",
       "      <td>2018</td>\n",
       "      <td>Meghan wears bridal-style outfit and bizarre w...</td>\n",
       "      <td>https://www.thesun.co.uk/fabulous/6352739/megh...</td>\n",
       "      <td>0</td>\n",
       "    </tr>\n",
       "    <tr>\n",
       "      <th>20344</th>\n",
       "      <td>TheSun</td>\n",
       "      <td>2018</td>\n",
       "      <td>Public gushes over Meghan and Harry in their o...</td>\n",
       "      <td>https://www.thesun.co.uk/news/6342997/royal-we...</td>\n",
       "      <td>0</td>\n",
       "    </tr>\n",
       "    <tr>\n",
       "      <th>20348</th>\n",
       "      <td>TheSun</td>\n",
       "      <td>2018</td>\n",
       "      <td>Paul Burrell warns Meghan is 'everything the R...</td>\n",
       "      <td>https://www.thesun.co.uk/news/6339940/paul-bur...</td>\n",
       "      <td>0</td>\n",
       "    </tr>\n",
       "    <tr>\n",
       "      <th>20389</th>\n",
       "      <td>TheSun</td>\n",
       "      <td>2018</td>\n",
       "      <td>Meghan will be pregnant ‘before she can spell ...</td>\n",
       "      <td>https://www.thesun.co.uk/news/6334143/meghan-m...</td>\n",
       "      <td>0</td>\n",
       "    </tr>\n",
       "  </tbody>\n",
       "</table>\n",
       "<p>1581 rows × 5 columns</p>\n",
       "</div>"
      ],
      "text/plain": [
       "      news_source  date                                           headline  \\\n",
       "1       DailyMail  2021  Meghan is ready for 'brutal showdown' with Buc...   \n",
       "5       DailyMail  2021  Meghan and Prince Harry's son Archie can wait ...   \n",
       "8       DailyMail  2021  'Hurt William threw Harry out': Royal author r...   \n",
       "11      DailyMail  2021  William 'threw Harry out after Meghan bullying...   \n",
       "21      DailyMail  2021  Prince Harry and Meghan Markle want to hire br...   \n",
       "...           ...   ...                                                ...   \n",
       "20298      TheSun  2018  Meghan has 'become more comfortable' since mee...   \n",
       "20314      TheSun  2018  Meghan wears bridal-style outfit and bizarre w...   \n",
       "20344      TheSun  2018  Public gushes over Meghan and Harry in their o...   \n",
       "20348      TheSun  2018  Paul Burrell warns Meghan is 'everything the R...   \n",
       "20389      TheSun  2018  Meghan will be pregnant ‘before she can spell ...   \n",
       "\n",
       "                                                     url  prediction  \n",
       "1      https://www.dailymail.co.uk/news/article-97115...           0  \n",
       "5      https://www.dailymail.co.uk/news/article-97070...           0  \n",
       "8      https://www.dailymail.co.uk/news/article-97056...           0  \n",
       "11     https://www.dailymail.co.uk/news/article-97026...           0  \n",
       "21     https://www.dailymail.co.uk/femail/article-968...           0  \n",
       "...                                                  ...         ...  \n",
       "20298  https://www.thesun.co.uk/fabulous/6361966/megh...           0  \n",
       "20314  https://www.thesun.co.uk/fabulous/6352739/megh...           0  \n",
       "20344  https://www.thesun.co.uk/news/6342997/royal-we...           0  \n",
       "20348  https://www.thesun.co.uk/news/6339940/paul-bur...           0  \n",
       "20389  https://www.thesun.co.uk/news/6334143/meghan-m...           0  \n",
       "\n",
       "[1581 rows x 5 columns]"
      ]
     },
     "execution_count": 195,
     "metadata": {},
     "output_type": "execute_result"
    }
   ],
   "source": [
    "meg_articles[meg_articles['prediction'] == 0]"
   ]
  },
  {
   "cell_type": "markdown",
   "id": "afd0eec5-c18d-4287-9833-0fd808a2c2c1",
   "metadata": {},
   "source": [
    "## KATE MIDDLETON"
   ]
  },
  {
   "cell_type": "code",
   "execution_count": 189,
   "id": "bf3d431c-7925-4220-9cd6-7743ec2ca88c",
   "metadata": {},
   "outputs": [],
   "source": [
    "kate_headline = [\" \".join(prep_data(x)) for x in kate_articles['headline']]"
   ]
  },
  {
   "cell_type": "code",
   "execution_count": 190,
   "id": "7e50bf02-82d7-44c9-acb2-3a84fe1b0978",
   "metadata": {},
   "outputs": [],
   "source": [
    "kate_features = vectorizer.transform(kate_headline)"
   ]
  },
  {
   "cell_type": "code",
   "execution_count": 191,
   "id": "c59fa472-406a-4734-aa3a-3c84fbb0d730",
   "metadata": {},
   "outputs": [],
   "source": [
    "kate_features = kate_features.toarray()"
   ]
  },
  {
   "cell_type": "code",
   "execution_count": 193,
   "id": "afe7806f-f475-43c3-bb41-f69afb769910",
   "metadata": {},
   "outputs": [],
   "source": [
    "kate_articles['prediction'] = lr.predict(kate_features)"
   ]
  },
  {
   "cell_type": "code",
   "execution_count": 194,
   "id": "caf7e527-83aa-40be-a57c-ff7622ab008c",
   "metadata": {},
   "outputs": [
    {
     "data": {
      "text/plain": [
       "1    12123\n",
       "0      274\n",
       "Name: prediction, dtype: int64"
      ]
     },
     "execution_count": 194,
     "metadata": {},
     "output_type": "execute_result"
    }
   ],
   "source": [
    "kate_articles['prediction'].value_counts()"
   ]
  },
  {
   "cell_type": "code",
   "execution_count": 196,
   "id": "fc499662-b34f-4287-a6cf-a09f4015910c",
   "metadata": {},
   "outputs": [
    {
     "data": {
      "text/html": [
       "<div>\n",
       "<style scoped>\n",
       "    .dataframe tbody tr th:only-of-type {\n",
       "        vertical-align: middle;\n",
       "    }\n",
       "\n",
       "    .dataframe tbody tr th {\n",
       "        vertical-align: top;\n",
       "    }\n",
       "\n",
       "    .dataframe thead th {\n",
       "        text-align: right;\n",
       "    }\n",
       "</style>\n",
       "<table border=\"1\" class=\"dataframe\">\n",
       "  <thead>\n",
       "    <tr style=\"text-align: right;\">\n",
       "      <th></th>\n",
       "      <th>news_source</th>\n",
       "      <th>date</th>\n",
       "      <th>headline</th>\n",
       "      <th>url</th>\n",
       "      <th>prediction</th>\n",
       "    </tr>\n",
       "  </thead>\n",
       "  <tbody>\n",
       "    <tr>\n",
       "      <th>33</th>\n",
       "      <td>DailyMail</td>\n",
       "      <td>2021</td>\n",
       "      <td>Kate Middleton has 'risen above' claims she ma...</td>\n",
       "      <td>https://www.dailymail.co.uk/femail/article-963...</td>\n",
       "      <td>0</td>\n",
       "    </tr>\n",
       "    <tr>\n",
       "      <th>36</th>\n",
       "      <td>DailyMail</td>\n",
       "      <td>2021</td>\n",
       "      <td>How Kate has become the 'jewel in the monarchy...</td>\n",
       "      <td>https://www.dailymail.co.uk/femail/article-963...</td>\n",
       "      <td>0</td>\n",
       "    </tr>\n",
       "    <tr>\n",
       "      <th>55</th>\n",
       "      <td>DailyMail</td>\n",
       "      <td>2021</td>\n",
       "      <td>Prince William is a 'normal bloke' and 'part o...</td>\n",
       "      <td>https://www.dailymail.co.uk/femail/article-961...</td>\n",
       "      <td>0</td>\n",
       "    </tr>\n",
       "    <tr>\n",
       "      <th>65</th>\n",
       "      <td>DailyMail</td>\n",
       "      <td>2021</td>\n",
       "      <td>Kate Middleton's uncle unleashes on 'muppets' ...</td>\n",
       "      <td>https://www.dailymail.co.uk/news/article-96097...</td>\n",
       "      <td>0</td>\n",
       "    </tr>\n",
       "    <tr>\n",
       "      <th>85</th>\n",
       "      <td>DailyMail</td>\n",
       "      <td>2021</td>\n",
       "      <td>Meghan Markle and Prince Harry are competing i...</td>\n",
       "      <td>https://www.dailymail.co.uk/femail/article-957...</td>\n",
       "      <td>0</td>\n",
       "    </tr>\n",
       "    <tr>\n",
       "      <th>...</th>\n",
       "      <td>...</td>\n",
       "      <td>...</td>\n",
       "      <td>...</td>\n",
       "      <td>...</td>\n",
       "      <td>...</td>\n",
       "    </tr>\n",
       "    <tr>\n",
       "      <th>11834</th>\n",
       "      <td>TheSun</td>\n",
       "      <td>2019</td>\n",
       "      <td>Meghan ‘never stood a chance’ to win popularit...</td>\n",
       "      <td>https://www.thesun.co.uk/fabulous/8242154/megh...</td>\n",
       "      <td>0</td>\n",
       "    </tr>\n",
       "    <tr>\n",
       "      <th>11835</th>\n",
       "      <td>TheSun</td>\n",
       "      <td>2019</td>\n",
       "      <td>How Meghan has struggled with royal life amid ...</td>\n",
       "      <td>https://www.thesun.co.uk/news/8234155/meghan-m...</td>\n",
       "      <td>0</td>\n",
       "    </tr>\n",
       "    <tr>\n",
       "      <th>11941</th>\n",
       "      <td>TheSun</td>\n",
       "      <td>2018</td>\n",
       "      <td>Meghan's 'difficult' while Kate's 'compliant':...</td>\n",
       "      <td>https://www.thesun.co.uk/tvandshowbiz/7870627/...</td>\n",
       "      <td>0</td>\n",
       "    </tr>\n",
       "    <tr>\n",
       "      <th>12009</th>\n",
       "      <td>TheSun</td>\n",
       "      <td>2018</td>\n",
       "      <td>Meghan Markle WASN'T the first royal to close ...</td>\n",
       "      <td>https://www.thesun.co.uk/fabulous/7359101/megh...</td>\n",
       "      <td>0</td>\n",
       "    </tr>\n",
       "    <tr>\n",
       "      <th>12019</th>\n",
       "      <td>TheSun</td>\n",
       "      <td>2019</td>\n",
       "      <td>Camilla 'didn't want Prince William to marry p...</td>\n",
       "      <td>https://www.thesun.co.uk/fabulous/7219341/kate...</td>\n",
       "      <td>0</td>\n",
       "    </tr>\n",
       "  </tbody>\n",
       "</table>\n",
       "<p>274 rows × 5 columns</p>\n",
       "</div>"
      ],
      "text/plain": [
       "      news_source  date                                           headline  \\\n",
       "33      DailyMail  2021  Kate Middleton has 'risen above' claims she ma...   \n",
       "36      DailyMail  2021  How Kate has become the 'jewel in the monarchy...   \n",
       "55      DailyMail  2021  Prince William is a 'normal bloke' and 'part o...   \n",
       "65      DailyMail  2021  Kate Middleton's uncle unleashes on 'muppets' ...   \n",
       "85      DailyMail  2021  Meghan Markle and Prince Harry are competing i...   \n",
       "...           ...   ...                                                ...   \n",
       "11834      TheSun  2019  Meghan ‘never stood a chance’ to win popularit...   \n",
       "11835      TheSun  2019  How Meghan has struggled with royal life amid ...   \n",
       "11941      TheSun  2018  Meghan's 'difficult' while Kate's 'compliant':...   \n",
       "12009      TheSun  2018  Meghan Markle WASN'T the first royal to close ...   \n",
       "12019      TheSun  2019  Camilla 'didn't want Prince William to marry p...   \n",
       "\n",
       "                                                     url  prediction  \n",
       "33     https://www.dailymail.co.uk/femail/article-963...           0  \n",
       "36     https://www.dailymail.co.uk/femail/article-963...           0  \n",
       "55     https://www.dailymail.co.uk/femail/article-961...           0  \n",
       "65     https://www.dailymail.co.uk/news/article-96097...           0  \n",
       "85     https://www.dailymail.co.uk/femail/article-957...           0  \n",
       "...                                                  ...         ...  \n",
       "11834  https://www.thesun.co.uk/fabulous/8242154/megh...           0  \n",
       "11835  https://www.thesun.co.uk/news/8234155/meghan-m...           0  \n",
       "11941  https://www.thesun.co.uk/tvandshowbiz/7870627/...           0  \n",
       "12009  https://www.thesun.co.uk/fabulous/7359101/megh...           0  \n",
       "12019  https://www.thesun.co.uk/fabulous/7219341/kate...           0  \n",
       "\n",
       "[274 rows x 5 columns]"
      ]
     },
     "execution_count": 196,
     "metadata": {},
     "output_type": "execute_result"
    }
   ],
   "source": [
    "kate_articles[kate_articles['prediction'] == 0]"
   ]
  },
  {
   "cell_type": "code",
   "execution_count": null,
   "id": "b4973bbe-3200-4aa0-88bc-97f5b0fe55ce",
   "metadata": {},
   "outputs": [],
   "source": []
  },
  {
   "cell_type": "code",
   "execution_count": null,
   "id": "e8a366ce-11bd-4506-a989-0581460a9d76",
   "metadata": {},
   "outputs": [],
   "source": []
  }
 ],
 "metadata": {
  "kernelspec": {
   "display_name": "Python 3",
   "language": "python",
   "name": "python3"
  },
  "language_info": {
   "codemirror_mode": {
    "name": "ipython",
    "version": 3
   },
   "file_extension": ".py",
   "mimetype": "text/x-python",
   "name": "python",
   "nbconvert_exporter": "python",
   "pygments_lexer": "ipython3",
   "version": "3.8.10"
  }
 },
 "nbformat": 4,
 "nbformat_minor": 5
}
